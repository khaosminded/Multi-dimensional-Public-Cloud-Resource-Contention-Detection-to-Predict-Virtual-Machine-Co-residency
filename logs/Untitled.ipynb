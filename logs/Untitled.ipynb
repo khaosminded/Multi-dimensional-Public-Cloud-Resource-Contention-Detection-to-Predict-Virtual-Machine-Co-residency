{
 "cells": [
  {
   "cell_type": "code",
   "execution_count": 29,
   "metadata": {},
   "outputs": [],
   "source": [
    "import re\n",
    "str = \"\"\"starting vacuum...end.\n",
    "transaction type: TPC-B (sort of)\n",
    "scaling factor: 1\n",
    "query mode: simple\n",
    "number of clients: 1\n",
    "number of threads: 1\n",
    "number of transactions per client: 10\n",
    "number of transactions actually processed: 10/10\n",
    "latency average: 3.012 ms\n",
    "tps = 331.994290 (including connections establishing)\n",
    "tps = 358.487184 (excluding connections establishing)\"\"\"\n",
    "\n"
   ]
  },
  {
   "cell_type": "code",
   "execution_count": 30,
   "metadata": {},
   "outputs": [],
   "source": [
    "\n",
    "\n",
    "class Parser:\n",
    "    result = {}\n",
    "\n",
    "    @classmethod\n",
    "    def sysbenchParse(self, rawperf):\n",
    "        try:\n",
    "            for line in rawperf.split('\\n'):\n",
    "                if line.find('total time:') != -1:\n",
    "                    totalTime = re.search(r'total time:\\s*(.*)', line).group(1)\n",
    "                    Parser.result['total-time(s)'] = totalTime\n",
    "        except (AttributeError, IndexError):\n",
    "            os.popen(\"mkdir RE_ERROR!!!\")\n",
    "        return Parser.result\n",
    "\n",
    "    @classmethod\n",
    "    def pgbenchParse(self, rawperf):\n",
    "        try:\n",
    "            for line in rawperf.split('\\n'):\n",
    "                if line.find('excluding connections establishing') != -1:\n",
    "                    transactions = re.search(r'(\\d*\\.\\d*)', line).group(1)\n",
    "                    Parser.result['transactions(per s)'] = transactions\n",
    "        except (AttributeError, IndexError):\n",
    "            os.popen(\"mkdir RE_ERROR!!!\")\n",
    "        return Parser.result\n",
    "\n",
    "    @classmethod\n",
    "    def sysbenchioParse(self, rawperf):\n",
    "        try:\n",
    "            for line in rawperf.split('\\n'):\n",
    "                if line.find('Total transferred') != -1:\n",
    "                    computationTime = re.search(\n",
    "                        r'(\\d*\\.\\d*)Mb/sec', line).group(1)\n",
    "                    Parser.result['transferred(Mb/sec)'] = computationTime\n",
    "        except (AttributeError, IndexError):\n",
    "            os.popen(\"mkdir RE_ERROR!!!\")\n",
    "        return Parser.result\n"
   ]
  },
  {
   "cell_type": "code",
   "execution_count": 17,
   "metadata": {},
   "outputs": [],
   "source": [
    "new = Parser.pgbenchParse(str)\n",
    "perf={}"
   ]
  },
  {
   "cell_type": "code",
   "execution_count": 22,
   "metadata": {},
   "outputs": [],
   "source": [
    "perf.update(new)\n",
    "from collections import OrderedDict\n",
    "row = OrderedDict([(\"setId\", None), (\"vmId\", None), (\"cmd\", None)])"
   ]
  },
  {
   "cell_type": "code",
   "execution_count": 23,
   "metadata": {},
   "outputs": [],
   "source": [
    "row.update(perf)"
   ]
  },
  {
   "cell_type": "code",
   "execution_count": 24,
   "metadata": {},
   "outputs": [
    {
     "data": {
      "text/plain": [
       "OrderedDict([('setId', None),\n",
       "             ('vmId', None),\n",
       "             ('cmd', None),\n",
       "             ('transferred(Mb/sec)', '537.186')])"
      ]
     },
     "execution_count": 24,
     "metadata": {},
     "output_type": "execute_result"
    }
   ],
   "source": [
    "row"
   ]
  },
  {
   "cell_type": "code",
   "execution_count": 28,
   "metadata": {},
   "outputs": [
    {
     "ename": "SyntaxError",
     "evalue": "invalid syntax (<ipython-input-28-d69c8f04cc82>, line 3)",
     "output_type": "error",
     "traceback": [
      "\u001b[0;36m  File \u001b[0;32m\"<ipython-input-28-d69c8f04cc82>\"\u001b[0;36m, line \u001b[0;32m3\u001b[0m\n\u001b[0;31m    else if \"a\" == \"b\":\u001b[0m\n\u001b[0m          ^\u001b[0m\n\u001b[0;31mSyntaxError\u001b[0m\u001b[0;31m:\u001b[0m invalid syntax\n"
     ]
    }
   ],
   "source": [
    "if \"a\" == \"a\":\n",
    "    print(\"A\")\n",
    "else if \"a\" == \"b\":\n",
    "    print(\"B\")\n",
    "    "
   ]
  },
  {
   "cell_type": "code",
   "execution_count": 34,
   "metadata": {},
   "outputs": [],
   "source": [
    "import os\n",
    "PEM_PATH = \"~/.ssh/as0.pem\"\n",
    "cmd = \"sudo bash /home/ubuntu/SCRIPT/scripts/remote/init_pg_on_localdisk.bash &\"\n",
    "ipfile = \"../scripts/local/hostfile_pssh\"\n",
    "os.popen(\"../scripts/remote/init_pg_on_localdisk.bash\")\n",
    "def psshExcute(addrfile, command):\n",
    "    pssh = \"pssh -i -h %s -x '-i %s' %s\" % (addrfile, PEM_PATH, command)\n",
    "    return \"###PSSH CALL:%s\\n\" % (command) + os.popen(pssh).read()\n",
    "\n"
   ]
  },
  {
   "cell_type": "code",
   "execution_count": 36,
   "metadata": {},
   "outputs": [
    {
     "data": {
      "text/plain": [
       "\"###PSSH CALL:sudo 'abc'>> /ect/crontab\\n\""
      ]
     },
     "execution_count": 36,
     "metadata": {},
     "output_type": "execute_result"
    }
   ],
   "source": [
    "cmd = \"sudo 'abc'>> /ect/crontab\"\n",
    "psshExcute(ipfile, cmd)"
   ]
  },
  {
   "cell_type": "code",
   "execution_count": null,
   "metadata": {},
   "outputs": [],
   "source": []
  }
 ],
 "metadata": {
  "kernelspec": {
   "display_name": "Python 3",
   "language": "python",
   "name": "python3"
  },
  "language_info": {
   "codemirror_mode": {
    "name": "ipython",
    "version": 3
   },
   "file_extension": ".py",
   "mimetype": "text/x-python",
   "name": "python",
   "nbconvert_exporter": "python",
   "pygments_lexer": "ipython3",
   "version": "3.7.1"
  }
 },
 "nbformat": 4,
 "nbformat_minor": 2
}
