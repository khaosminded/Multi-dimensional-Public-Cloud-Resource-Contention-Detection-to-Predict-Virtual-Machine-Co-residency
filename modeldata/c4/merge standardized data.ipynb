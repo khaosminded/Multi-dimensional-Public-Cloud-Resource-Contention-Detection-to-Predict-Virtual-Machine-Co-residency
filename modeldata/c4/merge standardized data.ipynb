{
 "cells": [
  {
   "cell_type": "code",
   "execution_count": 10,
   "metadata": {
    "vscode": {
     "languageId": "r"
    }
   },
   "outputs": [],
   "source": [
    "library(dplyr)\n",
    "iperf<-read.csv(\"./iperf_standarlized.csv\")\n",
    "sysbench<-read.csv(\"./sysbench_standarlized.csv\")\n",
    "ycruncher<-read.csv(\"./ycruncher_standarlized.csv\")\n",
    "pgbench<-read.csv(\"./pgbench_standarlized.csv\")"
   ]
  },
  {
   "cell_type": "code",
   "execution_count": 24,
   "metadata": {
    "vscode": {
     "languageId": "r"
    }
   },
   "outputs": [],
   "source": [
    "globalMerged = data.frame()\n",
    "for (set in 1:16) {\n",
    "    for (vm in 1:set) {\n",
    "        a = iperf[iperf$setId == set & iperf$vmId == vm,] \n",
    "        b = sysbench[sysbench$setId == set & sysbench$vmId == vm,]\n",
    "        c = ycruncher[ycruncher$setId == set & ycruncher$vmId == vm,]\n",
    "        d = pgbench[pgbench$setId == set & pgbench$vmId == vm,]\n",
    "\n",
    "        merged = cbind(a[\"iperf\"],b[\"sysbench\"],c[\"ycruncher\"],d[\"pgbench\"],set,vm)\n",
    "       globalMerged = rbind(globalMerged, merged)\n",
    "        \n",
    "    }\n",
    "}\n"
   ]
  },
  {
   "cell_type": "code",
   "execution_count": 17,
   "metadata": {
    "vscode": {
     "languageId": "r"
    }
   },
   "outputs": [
    {
     "data": {
      "text/html": [
       "<style>\n",
       ".list-inline {list-style: none; margin:0; padding: 0}\n",
       ".list-inline>li {display: inline-block}\n",
       ".list-inline>li:not(:last-child)::after {content: \"\\00b7\"; padding: 0 .5ex}\n",
       "</style>\n",
       "<ol class=list-inline><li>1360</li><li>6</li></ol>\n"
      ],
      "text/latex": [
       "\\begin{enumerate*}\n",
       "\\item 1360\n",
       "\\item 6\n",
       "\\end{enumerate*}\n"
      ],
      "text/markdown": [
       "1. 1360\n",
       "2. 6\n",
       "\n",
       "\n"
      ],
      "text/plain": [
       "[1] 1360    6"
      ]
     },
     "metadata": {},
     "output_type": "display_data"
    }
   ],
   "source": [
    "dim(globalMerged)# (1*16)*8configs * 10 rows"
   ]
  },
  {
   "cell_type": "code",
   "execution_count": 18,
   "metadata": {
    "vscode": {
     "languageId": "r"
    }
   },
   "outputs": [],
   "source": [
    "rownames(globalMerged) = c(1: dim(globalMerged)[1])\n",
    "write.csv(globalMerged,\"./merged.csv\",row.names=FALSE)"
   ]
  },
  {
   "cell_type": "code",
   "execution_count": null,
   "metadata": {
    "vscode": {
     "languageId": "r"
    }
   },
   "outputs": [],
   "source": []
  }
 ],
 "metadata": {
  "interpreter": {
   "hash": "0ef3be7f0c0b8459529ee79533840b5b73ae5f82458da6e33134bc1d9f61d8b6"
  },
  "kernelspec": {
   "display_name": "R",
   "language": "R",
   "name": "ir"
  },
  "language_info": {
   "codemirror_mode": "r",
   "file_extension": ".r",
   "mimetype": "text/x-r-source",
   "name": "R",
   "pygments_lexer": "r",
   "version": "4.2.0"
  }
 },
 "nbformat": 4,
 "nbformat_minor": 2
}
