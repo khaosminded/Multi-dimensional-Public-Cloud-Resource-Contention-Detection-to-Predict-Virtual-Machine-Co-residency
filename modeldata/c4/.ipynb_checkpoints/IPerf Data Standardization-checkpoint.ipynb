{
 "cells": [
  {
   "cell_type": "code",
   "execution_count": 1,
   "metadata": {},
   "outputs": [
    {
     "data": {
      "text/html": [
       "<table>\n",
       "<thead><tr><th scope=col>instanceID</th><th scope=col>instanceType</th><th scope=col>experimentID</th><th scope=col>interval</th><th scope=col>bandwidthUpload</th><th scope=col>bandwitdhDownload</th><th scope=col>Upload</th><th scope=col>Download</th><th scope=col>Total</th><th scope=col>setId</th><th scope=col>vmId</th><th scope=col>cmd</th><th scope=col>X</th><th scope=col>X.1</th><th scope=col>X.2</th><th scope=col>X.3</th><th scope=col>X.4</th></tr></thead>\n",
       "<tbody>\n",
       "\t<tr><td>i-024fbd0ce0d3c4378                                    </td><td>m5d.large                                              </td><td>1567242764                                             </td><td>15.0 sec                                               </td><td>9.57 Gbits/sec                                         </td><td>8.87 Gbits/sec                                         </td><td>9.57                                                   </td><td>8.87                                                   </td><td>18.44                                                  </td><td>1                                                      </td><td>1                                                      </td><td>iperf -c 172.31.95.6 --dualtest --window 416k --time 15</td><td>NA                                                     </td><td>NA                                                     </td><td>NA                                                     </td><td>NA                                                     </td><td>NA                                                     </td></tr>\n",
       "\t<tr><td>i-024fbd0ce0d3c4378                                    </td><td>m5d.large                                              </td><td>1567242764                                             </td><td>15.0 sec                                               </td><td>9.47 Gbits/sec                                         </td><td>9.05 Gbits/sec                                         </td><td>9.47                                                   </td><td>9.05                                                   </td><td>18.52                                                  </td><td>1                                                      </td><td>1                                                      </td><td>iperf -c 172.31.95.6 --dualtest --window 416k --time 15</td><td>NA                                                     </td><td>NA                                                     </td><td>NA                                                     </td><td>NA                                                     </td><td>NA                                                     </td></tr>\n",
       "\t<tr><td>i-024fbd0ce0d3c4378                                    </td><td>m5d.large                                              </td><td>1567242764                                             </td><td>15.0 sec                                               </td><td>9.44 Gbits/sec                                         </td><td>8.88 Gbits/sec                                         </td><td>9.44                                                   </td><td>8.88                                                   </td><td>18.32                                                  </td><td>1                                                      </td><td>1                                                      </td><td>iperf -c 172.31.95.6 --dualtest --window 416k --time 15</td><td>NA                                                     </td><td>NA                                                     </td><td>NA                                                     </td><td>NA                                                     </td><td>NA                                                     </td></tr>\n",
       "\t<tr><td>i-024fbd0ce0d3c4378                                    </td><td>m5d.large                                              </td><td>1567242764                                             </td><td>15.0 sec                                               </td><td>9.45 Gbits/sec                                         </td><td>9.13 Gbits/sec                                         </td><td>9.45                                                   </td><td>9.13                                                   </td><td>18.58                                                  </td><td>1                                                      </td><td>1                                                      </td><td>iperf -c 172.31.95.6 --dualtest --window 416k --time 15</td><td>NA                                                     </td><td>NA                                                     </td><td>NA                                                     </td><td>NA                                                     </td><td>NA                                                     </td></tr>\n",
       "\t<tr><td>i-024fbd0ce0d3c4378                                    </td><td>m5d.large                                              </td><td>1567242764                                             </td><td>15.0 sec                                               </td><td>9.48 Gbits/sec                                         </td><td>8.90 Gbits/sec                                         </td><td>9.48                                                   </td><td>8.90                                                   </td><td>18.38                                                  </td><td>1                                                      </td><td>1                                                      </td><td>iperf -c 172.31.95.6 --dualtest --window 416k --time 15</td><td>NA                                                     </td><td>NA                                                     </td><td>NA                                                     </td><td>NA                                                     </td><td>NA                                                     </td></tr>\n",
       "\t<tr><td>i-024fbd0ce0d3c4378                                    </td><td>m5d.large                                              </td><td>1567242764                                             </td><td>15.0 sec                                               </td><td>9.60 Gbits/sec                                         </td><td>9.26 Gbits/sec                                         </td><td>9.60                                                   </td><td>9.26                                                   </td><td>18.86                                                  </td><td>1                                                      </td><td>1                                                      </td><td>iperf -c 172.31.95.6 --dualtest --window 416k --time 15</td><td>NA                                                     </td><td>NA                                                     </td><td>NA                                                     </td><td>NA                                                     </td><td>NA                                                     </td></tr>\n",
       "</tbody>\n",
       "</table>\n"
      ],
      "text/latex": [
       "\\begin{tabular}{r|lllllllllllllllll}\n",
       " instanceID & instanceType & experimentID & interval & bandwidthUpload & bandwitdhDownload & Upload & Download & Total & setId & vmId & cmd & X & X.1 & X.2 & X.3 & X.4\\\\\n",
       "\\hline\n",
       "\t i-024fbd0ce0d3c4378                                     & m5d.large                                               & 1567242764                                              & 15.0 sec                                                & 9.57 Gbits/sec                                          & 8.87 Gbits/sec                                          & 9.57                                                    & 8.87                                                    & 18.44                                                   & 1                                                       & 1                                                       & iperf -c 172.31.95.6 --dualtest --window 416k --time 15 & NA                                                      & NA                                                      & NA                                                      & NA                                                      & NA                                                     \\\\\n",
       "\t i-024fbd0ce0d3c4378                                     & m5d.large                                               & 1567242764                                              & 15.0 sec                                                & 9.47 Gbits/sec                                          & 9.05 Gbits/sec                                          & 9.47                                                    & 9.05                                                    & 18.52                                                   & 1                                                       & 1                                                       & iperf -c 172.31.95.6 --dualtest --window 416k --time 15 & NA                                                      & NA                                                      & NA                                                      & NA                                                      & NA                                                     \\\\\n",
       "\t i-024fbd0ce0d3c4378                                     & m5d.large                                               & 1567242764                                              & 15.0 sec                                                & 9.44 Gbits/sec                                          & 8.88 Gbits/sec                                          & 9.44                                                    & 8.88                                                    & 18.32                                                   & 1                                                       & 1                                                       & iperf -c 172.31.95.6 --dualtest --window 416k --time 15 & NA                                                      & NA                                                      & NA                                                      & NA                                                      & NA                                                     \\\\\n",
       "\t i-024fbd0ce0d3c4378                                     & m5d.large                                               & 1567242764                                              & 15.0 sec                                                & 9.45 Gbits/sec                                          & 9.13 Gbits/sec                                          & 9.45                                                    & 9.13                                                    & 18.58                                                   & 1                                                       & 1                                                       & iperf -c 172.31.95.6 --dualtest --window 416k --time 15 & NA                                                      & NA                                                      & NA                                                      & NA                                                      & NA                                                     \\\\\n",
       "\t i-024fbd0ce0d3c4378                                     & m5d.large                                               & 1567242764                                              & 15.0 sec                                                & 9.48 Gbits/sec                                          & 8.90 Gbits/sec                                          & 9.48                                                    & 8.90                                                    & 18.38                                                   & 1                                                       & 1                                                       & iperf -c 172.31.95.6 --dualtest --window 416k --time 15 & NA                                                      & NA                                                      & NA                                                      & NA                                                      & NA                                                     \\\\\n",
       "\t i-024fbd0ce0d3c4378                                     & m5d.large                                               & 1567242764                                              & 15.0 sec                                                & 9.60 Gbits/sec                                          & 9.26 Gbits/sec                                          & 9.60                                                    & 9.26                                                    & 18.86                                                   & 1                                                       & 1                                                       & iperf -c 172.31.95.6 --dualtest --window 416k --time 15 & NA                                                      & NA                                                      & NA                                                      & NA                                                      & NA                                                     \\\\\n",
       "\\end{tabular}\n"
      ],
      "text/markdown": [
       "\n",
       "instanceID | instanceType | experimentID | interval | bandwidthUpload | bandwitdhDownload | Upload | Download | Total | setId | vmId | cmd | X | X.1 | X.2 | X.3 | X.4 | \n",
       "|---|---|---|---|---|---|\n",
       "| i-024fbd0ce0d3c4378                                     | m5d.large                                               | 1567242764                                              | 15.0 sec                                                | 9.57 Gbits/sec                                          | 8.87 Gbits/sec                                          | 9.57                                                    | 8.87                                                    | 18.44                                                   | 1                                                       | 1                                                       | iperf -c 172.31.95.6 --dualtest --window 416k --time 15 | NA                                                      | NA                                                      | NA                                                      | NA                                                      | NA                                                      | \n",
       "| i-024fbd0ce0d3c4378                                     | m5d.large                                               | 1567242764                                              | 15.0 sec                                                | 9.47 Gbits/sec                                          | 9.05 Gbits/sec                                          | 9.47                                                    | 9.05                                                    | 18.52                                                   | 1                                                       | 1                                                       | iperf -c 172.31.95.6 --dualtest --window 416k --time 15 | NA                                                      | NA                                                      | NA                                                      | NA                                                      | NA                                                      | \n",
       "| i-024fbd0ce0d3c4378                                     | m5d.large                                               | 1567242764                                              | 15.0 sec                                                | 9.44 Gbits/sec                                          | 8.88 Gbits/sec                                          | 9.44                                                    | 8.88                                                    | 18.32                                                   | 1                                                       | 1                                                       | iperf -c 172.31.95.6 --dualtest --window 416k --time 15 | NA                                                      | NA                                                      | NA                                                      | NA                                                      | NA                                                      | \n",
       "| i-024fbd0ce0d3c4378                                     | m5d.large                                               | 1567242764                                              | 15.0 sec                                                | 9.45 Gbits/sec                                          | 9.13 Gbits/sec                                          | 9.45                                                    | 9.13                                                    | 18.58                                                   | 1                                                       | 1                                                       | iperf -c 172.31.95.6 --dualtest --window 416k --time 15 | NA                                                      | NA                                                      | NA                                                      | NA                                                      | NA                                                      | \n",
       "| i-024fbd0ce0d3c4378                                     | m5d.large                                               | 1567242764                                              | 15.0 sec                                                | 9.48 Gbits/sec                                          | 8.90 Gbits/sec                                          | 9.48                                                    | 8.90                                                    | 18.38                                                   | 1                                                       | 1                                                       | iperf -c 172.31.95.6 --dualtest --window 416k --time 15 | NA                                                      | NA                                                      | NA                                                      | NA                                                      | NA                                                      | \n",
       "| i-024fbd0ce0d3c4378                                     | m5d.large                                               | 1567242764                                              | 15.0 sec                                                | 9.60 Gbits/sec                                          | 9.26 Gbits/sec                                          | 9.60                                                    | 9.26                                                    | 18.86                                                   | 1                                                       | 1                                                       | iperf -c 172.31.95.6 --dualtest --window 416k --time 15 | NA                                                      | NA                                                      | NA                                                      | NA                                                      | NA                                                      | \n",
       "\n",
       "\n"
      ],
      "text/plain": [
       "  instanceID          instanceType experimentID interval bandwidthUpload\n",
       "1 i-024fbd0ce0d3c4378 m5d.large    1567242764   15.0 sec 9.57 Gbits/sec \n",
       "2 i-024fbd0ce0d3c4378 m5d.large    1567242764   15.0 sec 9.47 Gbits/sec \n",
       "3 i-024fbd0ce0d3c4378 m5d.large    1567242764   15.0 sec 9.44 Gbits/sec \n",
       "4 i-024fbd0ce0d3c4378 m5d.large    1567242764   15.0 sec 9.45 Gbits/sec \n",
       "5 i-024fbd0ce0d3c4378 m5d.large    1567242764   15.0 sec 9.48 Gbits/sec \n",
       "6 i-024fbd0ce0d3c4378 m5d.large    1567242764   15.0 sec 9.60 Gbits/sec \n",
       "  bandwitdhDownload Upload Download Total setId vmId\n",
       "1 8.87 Gbits/sec    9.57   8.87     18.44 1     1   \n",
       "2 9.05 Gbits/sec    9.47   9.05     18.52 1     1   \n",
       "3 8.88 Gbits/sec    9.44   8.88     18.32 1     1   \n",
       "4 9.13 Gbits/sec    9.45   9.13     18.58 1     1   \n",
       "5 8.90 Gbits/sec    9.48   8.90     18.38 1     1   \n",
       "6 9.26 Gbits/sec    9.60   9.26     18.86 1     1   \n",
       "  cmd                                                     X  X.1 X.2 X.3 X.4\n",
       "1 iperf -c 172.31.95.6 --dualtest --window 416k --time 15 NA NA  NA  NA  NA \n",
       "2 iperf -c 172.31.95.6 --dualtest --window 416k --time 15 NA NA  NA  NA  NA \n",
       "3 iperf -c 172.31.95.6 --dualtest --window 416k --time 15 NA NA  NA  NA  NA \n",
       "4 iperf -c 172.31.95.6 --dualtest --window 416k --time 15 NA NA  NA  NA  NA \n",
       "5 iperf -c 172.31.95.6 --dualtest --window 416k --time 15 NA NA  NA  NA  NA \n",
       "6 iperf -c 172.31.95.6 --dualtest --window 416k --time 15 NA NA  NA  NA  NA "
      ]
     },
     "metadata": {},
     "output_type": "display_data"
    }
   ],
   "source": [
    "i_perf <- read.table(\"./newdata_iperf_m5d_48.csv\", sep=\",\", header=TRUE)\n",
    "head(i_perf)"
   ]
  },
  {
   "cell_type": "code",
   "execution_count": null,
   "metadata": {},
   "outputs": [],
   "source": [
    "i_perf[i_per]"
   ]
  },
  {
   "cell_type": "code",
   "execution_count": 3,
   "metadata": {},
   "outputs": [
    {
     "name": "stdout",
     "output_type": "stream",
     "text": [
      "[1] 1\n",
      "[1] 48\n"
     ]
    },
    {
     "data": {
      "text/html": [
       "<ol class=list-inline>\n",
       "\t<li>'i-001050c1bdb37b36e'</li>\n",
       "\t<li>'i-002514db90407e7a4'</li>\n",
       "\t<li>'i-010734abc7e029645'</li>\n",
       "\t<li>'i-0108823c394d58a23'</li>\n",
       "\t<li>'i-0147c85eaa957f499'</li>\n",
       "\t<li>'i-032930eff24a46050'</li>\n",
       "\t<li>'i-033c016e321407254'</li>\n",
       "\t<li>'i-03c3e49dfdc90c04a'</li>\n",
       "\t<li>'i-03fd9ceb5b105c582'</li>\n",
       "\t<li>'i-04f161bba53c1b227'</li>\n",
       "\t<li>'i-051838e8918380892'</li>\n",
       "\t<li>'i-05741e87947f9417d'</li>\n",
       "\t<li>'i-058aac4c8b5980c21'</li>\n",
       "\t<li>'i-05c514d7a91792838'</li>\n",
       "\t<li>'i-05dcc4bf10c89da31'</li>\n",
       "\t<li>'i-062b6b41983765e64'</li>\n",
       "\t<li>'i-064ba764037e0814e'</li>\n",
       "\t<li>'i-067b12c11c0f3fe4c'</li>\n",
       "\t<li>'i-0721ed04cfe6d98ee'</li>\n",
       "\t<li>'i-07348a99f0bf6e6df'</li>\n",
       "\t<li>'i-07407fc712792c26f'</li>\n",
       "\t<li>'i-079ca48d97222e4bd'</li>\n",
       "\t<li>'i-08eaaeb6a2eb55434'</li>\n",
       "\t<li>'i-08f01fc697fe5b21d'</li>\n",
       "\t<li>'i-0908fc60844f45ce2'</li>\n",
       "\t<li>'i-0936bc4464bb97bde'</li>\n",
       "\t<li>'i-094073eb758430553'</li>\n",
       "\t<li>'i-09fd3f66259f577d3'</li>\n",
       "\t<li>'i-0aa8cb5e00b540739'</li>\n",
       "\t<li>'i-0ab94111e6e8caedd'</li>\n",
       "\t<li>'i-0b8def0067d2f10b3'</li>\n",
       "\t<li>'i-0bd1b114a613193e6'</li>\n",
       "\t<li>'i-0c1a35400a3b20351'</li>\n",
       "\t<li>'i-0c91e1f992fc599a2'</li>\n",
       "\t<li>'i-0cd407f165a7d2bae'</li>\n",
       "\t<li>'i-0ce514e8cc687cfc3'</li>\n",
       "\t<li>'i-0d54a1538f7e2de77'</li>\n",
       "\t<li>'i-0d6e05a5d1bb34175'</li>\n",
       "\t<li>'i-0db58bb48083166f4'</li>\n",
       "\t<li>'i-0dd7531da4fb776fc'</li>\n",
       "\t<li>'i-0ddab6d1309083e6f'</li>\n",
       "\t<li>'i-0e24cf40ed2339dfb'</li>\n",
       "\t<li>'i-0e65f7192e4cc9812'</li>\n",
       "\t<li>'i-0ed04e63687d6723d'</li>\n",
       "\t<li>'i-0ed1dd0ff2c0a5ad4'</li>\n",
       "\t<li>'i-0ee7f31ab970c7e59'</li>\n",
       "\t<li>'i-0f2e8aa553ae968e1'</li>\n",
       "\t<li>'i-0f94a70e83162ef50'</li>\n",
       "</ol>\n"
      ],
      "text/latex": [
       "\\begin{enumerate*}\n",
       "\\item 'i-001050c1bdb37b36e'\n",
       "\\item 'i-002514db90407e7a4'\n",
       "\\item 'i-010734abc7e029645'\n",
       "\\item 'i-0108823c394d58a23'\n",
       "\\item 'i-0147c85eaa957f499'\n",
       "\\item 'i-032930eff24a46050'\n",
       "\\item 'i-033c016e321407254'\n",
       "\\item 'i-03c3e49dfdc90c04a'\n",
       "\\item 'i-03fd9ceb5b105c582'\n",
       "\\item 'i-04f161bba53c1b227'\n",
       "\\item 'i-051838e8918380892'\n",
       "\\item 'i-05741e87947f9417d'\n",
       "\\item 'i-058aac4c8b5980c21'\n",
       "\\item 'i-05c514d7a91792838'\n",
       "\\item 'i-05dcc4bf10c89da31'\n",
       "\\item 'i-062b6b41983765e64'\n",
       "\\item 'i-064ba764037e0814e'\n",
       "\\item 'i-067b12c11c0f3fe4c'\n",
       "\\item 'i-0721ed04cfe6d98ee'\n",
       "\\item 'i-07348a99f0bf6e6df'\n",
       "\\item 'i-07407fc712792c26f'\n",
       "\\item 'i-079ca48d97222e4bd'\n",
       "\\item 'i-08eaaeb6a2eb55434'\n",
       "\\item 'i-08f01fc697fe5b21d'\n",
       "\\item 'i-0908fc60844f45ce2'\n",
       "\\item 'i-0936bc4464bb97bde'\n",
       "\\item 'i-094073eb758430553'\n",
       "\\item 'i-09fd3f66259f577d3'\n",
       "\\item 'i-0aa8cb5e00b540739'\n",
       "\\item 'i-0ab94111e6e8caedd'\n",
       "\\item 'i-0b8def0067d2f10b3'\n",
       "\\item 'i-0bd1b114a613193e6'\n",
       "\\item 'i-0c1a35400a3b20351'\n",
       "\\item 'i-0c91e1f992fc599a2'\n",
       "\\item 'i-0cd407f165a7d2bae'\n",
       "\\item 'i-0ce514e8cc687cfc3'\n",
       "\\item 'i-0d54a1538f7e2de77'\n",
       "\\item 'i-0d6e05a5d1bb34175'\n",
       "\\item 'i-0db58bb48083166f4'\n",
       "\\item 'i-0dd7531da4fb776fc'\n",
       "\\item 'i-0ddab6d1309083e6f'\n",
       "\\item 'i-0e24cf40ed2339dfb'\n",
       "\\item 'i-0e65f7192e4cc9812'\n",
       "\\item 'i-0ed04e63687d6723d'\n",
       "\\item 'i-0ed1dd0ff2c0a5ad4'\n",
       "\\item 'i-0ee7f31ab970c7e59'\n",
       "\\item 'i-0f2e8aa553ae968e1'\n",
       "\\item 'i-0f94a70e83162ef50'\n",
       "\\end{enumerate*}\n"
      ],
      "text/markdown": [
       "1. 'i-001050c1bdb37b36e'\n",
       "2. 'i-002514db90407e7a4'\n",
       "3. 'i-010734abc7e029645'\n",
       "4. 'i-0108823c394d58a23'\n",
       "5. 'i-0147c85eaa957f499'\n",
       "6. 'i-032930eff24a46050'\n",
       "7. 'i-033c016e321407254'\n",
       "8. 'i-03c3e49dfdc90c04a'\n",
       "9. 'i-03fd9ceb5b105c582'\n",
       "10. 'i-04f161bba53c1b227'\n",
       "11. 'i-051838e8918380892'\n",
       "12. 'i-05741e87947f9417d'\n",
       "13. 'i-058aac4c8b5980c21'\n",
       "14. 'i-05c514d7a91792838'\n",
       "15. 'i-05dcc4bf10c89da31'\n",
       "16. 'i-062b6b41983765e64'\n",
       "17. 'i-064ba764037e0814e'\n",
       "18. 'i-067b12c11c0f3fe4c'\n",
       "19. 'i-0721ed04cfe6d98ee'\n",
       "20. 'i-07348a99f0bf6e6df'\n",
       "21. 'i-07407fc712792c26f'\n",
       "22. 'i-079ca48d97222e4bd'\n",
       "23. 'i-08eaaeb6a2eb55434'\n",
       "24. 'i-08f01fc697fe5b21d'\n",
       "25. 'i-0908fc60844f45ce2'\n",
       "26. 'i-0936bc4464bb97bde'\n",
       "27. 'i-094073eb758430553'\n",
       "28. 'i-09fd3f66259f577d3'\n",
       "29. 'i-0aa8cb5e00b540739'\n",
       "30. 'i-0ab94111e6e8caedd'\n",
       "31. 'i-0b8def0067d2f10b3'\n",
       "32. 'i-0bd1b114a613193e6'\n",
       "33. 'i-0c1a35400a3b20351'\n",
       "34. 'i-0c91e1f992fc599a2'\n",
       "35. 'i-0cd407f165a7d2bae'\n",
       "36. 'i-0ce514e8cc687cfc3'\n",
       "37. 'i-0d54a1538f7e2de77'\n",
       "38. 'i-0d6e05a5d1bb34175'\n",
       "39. 'i-0db58bb48083166f4'\n",
       "40. 'i-0dd7531da4fb776fc'\n",
       "41. 'i-0ddab6d1309083e6f'\n",
       "42. 'i-0e24cf40ed2339dfb'\n",
       "43. 'i-0e65f7192e4cc9812'\n",
       "44. 'i-0ed04e63687d6723d'\n",
       "45. 'i-0ed1dd0ff2c0a5ad4'\n",
       "46. 'i-0ee7f31ab970c7e59'\n",
       "47. 'i-0f2e8aa553ae968e1'\n",
       "48. 'i-0f94a70e83162ef50'\n",
       "\n",
       "\n"
      ],
      "text/plain": [
       " [1] \"i-001050c1bdb37b36e\" \"i-002514db90407e7a4\" \"i-010734abc7e029645\"\n",
       " [4] \"i-0108823c394d58a23\" \"i-0147c85eaa957f499\" \"i-032930eff24a46050\"\n",
       " [7] \"i-033c016e321407254\" \"i-03c3e49dfdc90c04a\" \"i-03fd9ceb5b105c582\"\n",
       "[10] \"i-04f161bba53c1b227\" \"i-051838e8918380892\" \"i-05741e87947f9417d\"\n",
       "[13] \"i-058aac4c8b5980c21\" \"i-05c514d7a91792838\" \"i-05dcc4bf10c89da31\"\n",
       "[16] \"i-062b6b41983765e64\" \"i-064ba764037e0814e\" \"i-067b12c11c0f3fe4c\"\n",
       "[19] \"i-0721ed04cfe6d98ee\" \"i-07348a99f0bf6e6df\" \"i-07407fc712792c26f\"\n",
       "[22] \"i-079ca48d97222e4bd\" \"i-08eaaeb6a2eb55434\" \"i-08f01fc697fe5b21d\"\n",
       "[25] \"i-0908fc60844f45ce2\" \"i-0936bc4464bb97bde\" \"i-094073eb758430553\"\n",
       "[28] \"i-09fd3f66259f577d3\" \"i-0aa8cb5e00b540739\" \"i-0ab94111e6e8caedd\"\n",
       "[31] \"i-0b8def0067d2f10b3\" \"i-0bd1b114a613193e6\" \"i-0c1a35400a3b20351\"\n",
       "[34] \"i-0c91e1f992fc599a2\" \"i-0cd407f165a7d2bae\" \"i-0ce514e8cc687cfc3\"\n",
       "[37] \"i-0d54a1538f7e2de77\" \"i-0d6e05a5d1bb34175\" \"i-0db58bb48083166f4\"\n",
       "[40] \"i-0dd7531da4fb776fc\" \"i-0ddab6d1309083e6f\" \"i-0e24cf40ed2339dfb\"\n",
       "[43] \"i-0e65f7192e4cc9812\" \"i-0ed04e63687d6723d\" \"i-0ed1dd0ff2c0a5ad4\"\n",
       "[46] \"i-0ee7f31ab970c7e59\" \"i-0f2e8aa553ae968e1\" \"i-0f94a70e83162ef50\""
      ]
     },
     "metadata": {},
     "output_type": "display_data"
    }
   ],
   "source": [
    "temp_vm_id <- subset(sysbench, subset=instanceID!=\"\")\n",
    "vm_id <- factor(temp_vm_id$instanceID)\n",
    "\n",
    "#table(vm_id)\n",
    "vm_ids <- as.integer(vm_id)\n",
    "print(min(vm_ids))\n",
    "print(max(vm_ids))\n",
    "levels(vm_id)"
   ]
  },
  {
   "cell_type": "code",
   "execution_count": 4,
   "metadata": {},
   "outputs": [],
   "source": [
    "#Now bind the list of vm ids back into our dataframe\n",
    "#pgbench <- cbind(pgbench, exp_ids)\n",
    "sysbench <- sysbench[sysbench$instanceID != \"\",]\n",
    "sysbench <- cbind(sysbench, vm_ids)"
   ]
  },
  {
   "cell_type": "code",
   "execution_count": 5,
   "metadata": {},
   "outputs": [
    {
     "data": {
      "text/html": [
       "<table>\n",
       "<thead><tr><th></th><th scope=col>experimentID</th><th scope=col>set.id</th><th scope=col>instanceID</th><th scope=col>instanceType</th><th scope=col>wallTime</th><th scope=col>testOption</th><th scope=col>per.request.avg.time</th><th scope=col>total.time</th><th scope=col>thread.num</th><th scope=col>Standard.deviation</th><th scope=col>Average</th><th scope=col>vm_ids</th></tr></thead>\n",
       "<tbody>\n",
       "\t<tr><th scope=row>11802</th><td>1571978908-47                                                           </td><td>47                                                                      </td><td>i-001050c1bdb37b36e                                                     </td><td>m5d.large                                                               </td><td>9.045985                                                                </td><td>--test=cpu --cpu-max-prime=2000000 --num-threads=2 --max-requests=10 run</td><td>1803.64ms                                                               </td><td>9.0229s                                                                 </td><td>2                                                                       </td><td>         NA                                                             </td><td>      NA                                                                </td><td>1                                                                       </td></tr>\n",
       "\t<tr><th scope=row>11803</th><td>1571978908-47                                                           </td><td>47                                                                      </td><td>i-001050c1bdb37b36e                                                     </td><td>m5d.large                                                               </td><td>9.039338                                                                </td><td>--test=cpu --cpu-max-prime=2000000 --num-threads=2 --max-requests=10 run</td><td>1802.94ms                                                               </td><td>9.0184s                                                                 </td><td>2                                                                       </td><td>         NA                                                             </td><td>      NA                                                                </td><td>1                                                                       </td></tr>\n",
       "\t<tr><th scope=row>11804</th><td>1571978908-47                                                           </td><td>47                                                                      </td><td>i-001050c1bdb37b36e                                                     </td><td>m5d.large                                                               </td><td>9.038812                                                                </td><td>--test=cpu --cpu-max-prime=2000000 --num-threads=2 --max-requests=10 run</td><td>1802.94ms                                                               </td><td>9.0181s                                                                 </td><td>2                                                                       </td><td>         NA                                                             </td><td>      NA                                                                </td><td>1                                                                       </td></tr>\n",
       "\t<tr><th scope=row>11805</th><td>1571978908-47                                                           </td><td>47                                                                      </td><td>i-001050c1bdb37b36e                                                     </td><td>m5d.large                                                               </td><td>9.054751                                                                </td><td>--test=cpu --cpu-max-prime=2000000 --num-threads=2 --max-requests=10 run</td><td>1805.59ms                                                               </td><td>9.0335s                                                                 </td><td>2                                                                       </td><td>         NA                                                             </td><td>      NA                                                                </td><td>1                                                                       </td></tr>\n",
       "\t<tr><th scope=row>11806</th><td>1571978908-47                                                           </td><td>47                                                                      </td><td>i-001050c1bdb37b36e                                                     </td><td>m5d.large                                                               </td><td>9.040745                                                                </td><td>--test=cpu --cpu-max-prime=2000000 --num-threads=2 --max-requests=10 run</td><td>1802.91ms                                                               </td><td>9.0192s                                                                 </td><td>2                                                                       </td><td>         NA                                                             </td><td>      NA                                                                </td><td>1                                                                       </td></tr>\n",
       "\t<tr><th scope=row>11807</th><td>1571978908-47                                                           </td><td>47                                                                      </td><td>i-001050c1bdb37b36e                                                     </td><td>m5d.large                                                               </td><td>9.039167                                                                </td><td>--test=cpu --cpu-max-prime=2000000 --num-threads=2 --max-requests=10 run</td><td>1802.77ms                                                               </td><td>9.0187s                                                                 </td><td>2                                                                       </td><td>0.005639173                                                             </td><td>9.043167                                                                </td><td>1                                                                       </td></tr>\n",
       "</tbody>\n",
       "</table>\n"
      ],
      "text/latex": [
       "\\begin{tabular}{r|llllllllllll}\n",
       "  & experimentID & set.id & instanceID & instanceType & wallTime & testOption & per.request.avg.time & total.time & thread.num & Standard.deviation & Average & vm\\_ids\\\\\n",
       "\\hline\n",
       "\t11802 & 1571978908-47                                                            & 47                                                                       & i-001050c1bdb37b36e                                                      & m5d.large                                                                & 9.045985                                                                 & --test=cpu --cpu-max-prime=2000000 --num-threads=2 --max-requests=10 run & 1803.64ms                                                                & 9.0229s                                                                  & 2                                                                        &          NA                                                              &       NA                                                                 & 1                                                                       \\\\\n",
       "\t11803 & 1571978908-47                                                            & 47                                                                       & i-001050c1bdb37b36e                                                      & m5d.large                                                                & 9.039338                                                                 & --test=cpu --cpu-max-prime=2000000 --num-threads=2 --max-requests=10 run & 1802.94ms                                                                & 9.0184s                                                                  & 2                                                                        &          NA                                                              &       NA                                                                 & 1                                                                       \\\\\n",
       "\t11804 & 1571978908-47                                                            & 47                                                                       & i-001050c1bdb37b36e                                                      & m5d.large                                                                & 9.038812                                                                 & --test=cpu --cpu-max-prime=2000000 --num-threads=2 --max-requests=10 run & 1802.94ms                                                                & 9.0181s                                                                  & 2                                                                        &          NA                                                              &       NA                                                                 & 1                                                                       \\\\\n",
       "\t11805 & 1571978908-47                                                            & 47                                                                       & i-001050c1bdb37b36e                                                      & m5d.large                                                                & 9.054751                                                                 & --test=cpu --cpu-max-prime=2000000 --num-threads=2 --max-requests=10 run & 1805.59ms                                                                & 9.0335s                                                                  & 2                                                                        &          NA                                                              &       NA                                                                 & 1                                                                       \\\\\n",
       "\t11806 & 1571978908-47                                                            & 47                                                                       & i-001050c1bdb37b36e                                                      & m5d.large                                                                & 9.040745                                                                 & --test=cpu --cpu-max-prime=2000000 --num-threads=2 --max-requests=10 run & 1802.91ms                                                                & 9.0192s                                                                  & 2                                                                        &          NA                                                              &       NA                                                                 & 1                                                                       \\\\\n",
       "\t11807 & 1571978908-47                                                            & 47                                                                       & i-001050c1bdb37b36e                                                      & m5d.large                                                                & 9.039167                                                                 & --test=cpu --cpu-max-prime=2000000 --num-threads=2 --max-requests=10 run & 1802.77ms                                                                & 9.0187s                                                                  & 2                                                                        & 0.005639173                                                              & 9.043167                                                                 & 1                                                                       \\\\\n",
       "\\end{tabular}\n"
      ],
      "text/markdown": [
       "\n",
       "| <!--/--> | experimentID | set.id | instanceID | instanceType | wallTime | testOption | per.request.avg.time | total.time | thread.num | Standard.deviation | Average | vm_ids | \n",
       "|---|---|---|---|---|---|\n",
       "| 11802 | 1571978908-47                                                            | 47                                                                       | i-001050c1bdb37b36e                                                      | m5d.large                                                                | 9.045985                                                                 | --test=cpu --cpu-max-prime=2000000 --num-threads=2 --max-requests=10 run | 1803.64ms                                                                | 9.0229s                                                                  | 2                                                                        |          NA                                                              |       NA                                                                 | 1                                                                        | \n",
       "| 11803 | 1571978908-47                                                            | 47                                                                       | i-001050c1bdb37b36e                                                      | m5d.large                                                                | 9.039338                                                                 | --test=cpu --cpu-max-prime=2000000 --num-threads=2 --max-requests=10 run | 1802.94ms                                                                | 9.0184s                                                                  | 2                                                                        |          NA                                                              |       NA                                                                 | 1                                                                        | \n",
       "| 11804 | 1571978908-47                                                            | 47                                                                       | i-001050c1bdb37b36e                                                      | m5d.large                                                                | 9.038812                                                                 | --test=cpu --cpu-max-prime=2000000 --num-threads=2 --max-requests=10 run | 1802.94ms                                                                | 9.0181s                                                                  | 2                                                                        |          NA                                                              |       NA                                                                 | 1                                                                        | \n",
       "| 11805 | 1571978908-47                                                            | 47                                                                       | i-001050c1bdb37b36e                                                      | m5d.large                                                                | 9.054751                                                                 | --test=cpu --cpu-max-prime=2000000 --num-threads=2 --max-requests=10 run | 1805.59ms                                                                | 9.0335s                                                                  | 2                                                                        |          NA                                                              |       NA                                                                 | 1                                                                        | \n",
       "| 11806 | 1571978908-47                                                            | 47                                                                       | i-001050c1bdb37b36e                                                      | m5d.large                                                                | 9.040745                                                                 | --test=cpu --cpu-max-prime=2000000 --num-threads=2 --max-requests=10 run | 1802.91ms                                                                | 9.0192s                                                                  | 2                                                                        |          NA                                                              |       NA                                                                 | 1                                                                        | \n",
       "| 11807 | 1571978908-47                                                            | 47                                                                       | i-001050c1bdb37b36e                                                      | m5d.large                                                                | 9.039167                                                                 | --test=cpu --cpu-max-prime=2000000 --num-threads=2 --max-requests=10 run | 1802.77ms                                                                | 9.0187s                                                                  | 2                                                                        | 0.005639173                                                              | 9.043167                                                                 | 1                                                                        | \n",
       "\n",
       "\n"
      ],
      "text/plain": [
       "      experimentID  set.id instanceID          instanceType wallTime\n",
       "11802 1571978908-47 47     i-001050c1bdb37b36e m5d.large    9.045985\n",
       "11803 1571978908-47 47     i-001050c1bdb37b36e m5d.large    9.039338\n",
       "11804 1571978908-47 47     i-001050c1bdb37b36e m5d.large    9.038812\n",
       "11805 1571978908-47 47     i-001050c1bdb37b36e m5d.large    9.054751\n",
       "11806 1571978908-47 47     i-001050c1bdb37b36e m5d.large    9.040745\n",
       "11807 1571978908-47 47     i-001050c1bdb37b36e m5d.large    9.039167\n",
       "      testOption                                                              \n",
       "11802 --test=cpu --cpu-max-prime=2000000 --num-threads=2 --max-requests=10 run\n",
       "11803 --test=cpu --cpu-max-prime=2000000 --num-threads=2 --max-requests=10 run\n",
       "11804 --test=cpu --cpu-max-prime=2000000 --num-threads=2 --max-requests=10 run\n",
       "11805 --test=cpu --cpu-max-prime=2000000 --num-threads=2 --max-requests=10 run\n",
       "11806 --test=cpu --cpu-max-prime=2000000 --num-threads=2 --max-requests=10 run\n",
       "11807 --test=cpu --cpu-max-prime=2000000 --num-threads=2 --max-requests=10 run\n",
       "      per.request.avg.time total.time thread.num Standard.deviation Average \n",
       "11802 1803.64ms            9.0229s    2                   NA              NA\n",
       "11803 1802.94ms            9.0184s    2                   NA              NA\n",
       "11804 1802.94ms            9.0181s    2                   NA              NA\n",
       "11805 1805.59ms            9.0335s    2                   NA              NA\n",
       "11806 1802.91ms            9.0192s    2                   NA              NA\n",
       "11807 1802.77ms            9.0187s    2          0.005639173        9.043167\n",
       "      vm_ids\n",
       "11802 1     \n",
       "11803 1     \n",
       "11804 1     \n",
       "11805 1     \n",
       "11806 1     \n",
       "11807 1     "
      ]
     },
     "metadata": {},
     "output_type": "display_data"
    }
   ],
   "source": [
    "tail(sysbench)"
   ]
  },
  {
   "cell_type": "code",
   "execution_count": 15,
   "metadata": {},
   "outputs": [
    {
     "name": "stdout",
     "output_type": "stream",
     "text": [
      " [1] experimentID         set.id               instanceID          \n",
      " [4] instanceType         wallTime             testOption          \n",
      " [7] per.request.avg.time total.time           thread.num          \n",
      "[10] Standard.deviation   Average              vm_ids              \n",
      "<0 rows> (or 0-length row.names)\n",
      " [1] experimentID         set.id               instanceID          \n",
      " [4] instanceType         wallTime             testOption          \n",
      " [7] per.request.avg.time total.time           thread.num          \n",
      "[10] Standard.deviation   Average              vm_ids              \n",
      "<0 rows> (or 0-length row.names)\n",
      " [1] experimentID         set.id               instanceID          \n",
      " [4] instanceType         wallTime             testOption          \n",
      " [7] per.request.avg.time total.time           thread.num          \n",
      "[10] Standard.deviation   Average              vm_ids              \n",
      "<0 rows> (or 0-length row.names)\n"
     ]
    }
   ],
   "source": [
    "#Looks like there is no missing data.\n",
    "print(sysbench[sysbench$total.time == \"NA\", ])\n",
    "print(sysbench[sysbench$set.id == \"NA\", ])\n",
    "print(sysbench[sysbench$vm_ids == \"NA\", ])"
   ]
  },
  {
   "cell_type": "code",
   "execution_count": 7,
   "metadata": {},
   "outputs": [
    {
     "data": {
      "text/html": [
       "<ol class=list-inline>\n",
       "\t<li>11760</li>\n",
       "\t<li>12</li>\n",
       "</ol>\n"
      ],
      "text/latex": [
       "\\begin{enumerate*}\n",
       "\\item 11760\n",
       "\\item 12\n",
       "\\end{enumerate*}\n"
      ],
      "text/markdown": [
       "1. 11760\n",
       "2. 12\n",
       "\n",
       "\n"
      ],
      "text/plain": [
       "[1] 11760    12"
      ]
     },
     "metadata": {},
     "output_type": "display_data"
    }
   ],
   "source": [
    "#There are exactly as many observations as there should be: ((48 * (48 + 1)) / 2) * 10 = 11760\n",
    "dim(sysbench)"
   ]
  },
  {
   "cell_type": "code",
   "execution_count": 17,
   "metadata": {},
   "outputs": [],
   "source": [
    "#Write out the data we are interested in\n",
    "sysbench = sysbench[c(\"total.time\",\"set.id\",\"vm_ids\")]\n",
    "colnames(sysbench) <-c(\"sysbench\",\"setId\",\"vmId\")\n",
    "write.csv(sysbench,\"./sysbench_standardized.csv\",row.names = FALSE)"
   ]
  }
 ],
 "metadata": {
  "kernelspec": {
   "display_name": "R",
   "language": "R",
   "name": "ir"
  },
  "language_info": {
   "codemirror_mode": "r",
   "file_extension": ".r",
   "mimetype": "text/x-r-source",
   "name": "R",
   "pygments_lexer": "r",
   "version": "3.4.4"
  }
 },
 "nbformat": 4,
 "nbformat_minor": 2
}
