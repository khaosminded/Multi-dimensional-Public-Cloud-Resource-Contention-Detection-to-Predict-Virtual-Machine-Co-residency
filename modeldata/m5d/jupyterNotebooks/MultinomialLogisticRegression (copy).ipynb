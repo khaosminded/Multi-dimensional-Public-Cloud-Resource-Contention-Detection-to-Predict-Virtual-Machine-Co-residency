{
 "cells": [
  {
   "cell_type": "code",
   "execution_count": 10,
   "metadata": {},
   "outputs": [
    {
     "name": "stdout",
     "output_type": "stream",
     "text": [
      "'data.frame':\t3528 obs. of  6 variables:\n",
      " $ iperf    : num  18.4 18.5 18.3 17.5 17.5 ...\n",
      " $ sysbench : num  9.02 9.02 9.03 9.46 9.38 ...\n",
      " $ ycruncher: num  3.78 3.78 3.77 3.84 3.83 ...\n",
      " $ pgbench  : int  40954 40026 39843 40244 39264 39627 74700 74700 74700 40402 ...\n",
      " $ setId    : int  1 1 1 2 2 2 2 2 2 3 ...\n",
      " $ vmId     : int  1 1 1 1 1 1 2 2 2 1 ...\n"
     ]
    }
   ],
   "source": [
    "library(nnet)\n",
    "wholeSet = read.csv(\"./merged.csv\")\n",
    "str(wholeSet)"
   ]
  },
  {
   "cell_type": "code",
   "execution_count": 11,
   "metadata": {},
   "outputs": [
    {
     "name": "stdout",
     "output_type": "stream",
     "text": [
      "'data.frame':\t3528 obs. of  6 variables:\n",
      " $ iperf    : num  0.996 1 0.989 0.945 0.942 ...\n",
      " $ sysbench : num  0.00848 0.01714 0.02719 0.77732 0.62823 ...\n",
      " $ ycruncher: num  0.00465 0.00372 0 0.02974 0.02509 ...\n",
      " $ pgbench  : num  0.301 0.282 0.278 0.287 0.266 ...\n",
      " $ setId    : int  1 1 1 2 2 2 2 2 2 3 ...\n",
      " $ vmId     : int  1 1 1 1 1 1 2 2 2 1 ...\n"
     ]
    }
   ],
   "source": [
    "library(scales)\n",
    "wholeSet$pgbench <- rescale(wholeSet$pgbench, c(0,1))\n",
    "wholeSet$sysbench <- rescale(wholeSet$sysbench , c(0,1))\n",
    "wholeSet$iperf <- rescale(wholeSet$iperf, c(0,1))\n",
    "wholeSet$ycruncher <- rescale(wholeSet$ycruncher, c(0,1))\n",
    "str(wholeSet)"
   ]
  },
  {
   "cell_type": "code",
   "execution_count": 12,
   "metadata": {},
   "outputs": [],
   "source": [
    "\n",
    "# Loading the dplyr package\n",
    "library(dplyr)\n",
    " \n",
    "# Using sample_frac to create 70 - 30 slipt into test and train\n",
    "train <- sample_frac(wholeSet, 0.7)\n",
    "sample_id <- as.numeric(rownames(train)) # rownames() returns character so as.numeric\n",
    "test <- wholeSet[-sample_id,]"
   ]
  },
  {
   "cell_type": "code",
   "execution_count": 14,
   "metadata": {},
   "outputs": [
    {
     "data": {
      "text/html": [
       "<table>\n",
       "<thead><tr><th></th><th scope=col>iperf</th><th scope=col>sysbench</th><th scope=col>ycruncher</th><th scope=col>pgbench</th><th scope=col>setId</th><th scope=col>vmId</th></tr></thead>\n",
       "<tbody>\n",
       "\t<tr><th scope=row>635</th><td>0.05250319 </td><td>0.045714286</td><td>0.2500000  </td><td>0.12833095 </td><td>21         </td><td> 2         </td></tr>\n",
       "\t<tr><th scope=row>188</th><td>0.33580972 </td><td>0.020259740</td><td>0.2481413  </td><td>0.41969481 </td><td>11         </td><td> 8         </td></tr>\n",
       "\t<tr><th scope=row>933</th><td>0.01979265 </td><td>0.031341991</td><td>0.3029740  </td><td>0.20748701 </td><td>25         </td><td>11         </td></tr>\n",
       "\t<tr><th scope=row>235</th><td>0.14342740 </td><td>0.015411255</td><td>0.2365242  </td><td>0.13452181 </td><td>13         </td><td> 1         </td></tr>\n",
       "\t<tr><th scope=row>2566</th><td>0.04618285 </td><td>0.033593074</td><td>0.9600372  </td><td>0.06747831 </td><td>41         </td><td>36         </td></tr>\n",
       "\t<tr><th scope=row>1630</th><td>0.08582358 </td><td>0.005887446</td><td>0.7286245  </td><td>0.08959149 </td><td>33         </td><td>16         </td></tr>\n",
       "</tbody>\n",
       "</table>\n"
      ],
      "text/latex": [
       "\\begin{tabular}{r|llllll}\n",
       "  & iperf & sysbench & ycruncher & pgbench & setId & vmId\\\\\n",
       "\\hline\n",
       "\t635 & 0.05250319  & 0.045714286 & 0.2500000   & 0.12833095  & 21          &  2         \\\\\n",
       "\t188 & 0.33580972  & 0.020259740 & 0.2481413   & 0.41969481  & 11          &  8         \\\\\n",
       "\t933 & 0.01979265  & 0.031341991 & 0.3029740   & 0.20748701  & 25          & 11         \\\\\n",
       "\t235 & 0.14342740  & 0.015411255 & 0.2365242   & 0.13452181  & 13          &  1         \\\\\n",
       "\t2566 & 0.04618285  & 0.033593074 & 0.9600372   & 0.06747831  & 41          & 36         \\\\\n",
       "\t1630 & 0.08582358  & 0.005887446 & 0.7286245   & 0.08959149  & 33          & 16         \\\\\n",
       "\\end{tabular}\n"
      ],
      "text/markdown": [
       "\n",
       "| <!--/--> | iperf | sysbench | ycruncher | pgbench | setId | vmId | \n",
       "|---|---|---|---|---|---|\n",
       "| 635 | 0.05250319  | 0.045714286 | 0.2500000   | 0.12833095  | 21          |  2          | \n",
       "| 188 | 0.33580972  | 0.020259740 | 0.2481413   | 0.41969481  | 11          |  8          | \n",
       "| 933 | 0.01979265  | 0.031341991 | 0.3029740   | 0.20748701  | 25          | 11          | \n",
       "| 235 | 0.14342740  | 0.015411255 | 0.2365242   | 0.13452181  | 13          |  1          | \n",
       "| 2566 | 0.04618285  | 0.033593074 | 0.9600372   | 0.06747831  | 41          | 36          | \n",
       "| 1630 | 0.08582358  | 0.005887446 | 0.7286245   | 0.08959149  | 33          | 16          | \n",
       "\n",
       "\n"
      ],
      "text/plain": [
       "     iperf      sysbench    ycruncher pgbench    setId vmId\n",
       "635  0.05250319 0.045714286 0.2500000 0.12833095 21     2  \n",
       "188  0.33580972 0.020259740 0.2481413 0.41969481 11     8  \n",
       "933  0.01979265 0.031341991 0.3029740 0.20748701 25    11  \n",
       "235  0.14342740 0.015411255 0.2365242 0.13452181 13     1  \n",
       "2566 0.04618285 0.033593074 0.9600372 0.06747831 41    36  \n",
       "1630 0.08582358 0.005887446 0.7286245 0.08959149 33    16  "
      ]
     },
     "metadata": {},
     "output_type": "display_data"
    }
   ],
   "source": [
    "head(train)"
   ]
  },
  {
   "cell_type": "code",
   "execution_count": 4,
   "metadata": {},
   "outputs": [
    {
     "name": "stdout",
     "output_type": "stream",
     "text": [
      "'data.frame':\t2470 obs. of  6 variables:\n",
      " $ iperf    : num  0.0198 0.0833 0.0531 0.0284 0.045 ...\n",
      " $ sysbench : num  0.01489 0.00519 0.0142 0.00693 0.04952 ...\n",
      " $ ycruncher: num  0.947 0.739 0.543 0.951 0.539 ...\n",
      " $ pgbench  : num  0.9184 0.2058 0.0674 0.0468 0.0717 ...\n",
      " $ setId    : Factor w/ 47 levels \"2\",\"3\",\"4\",\"5\",..: 45 33 29 41 33 5 21 36 29 31 ...\n",
      " $ vmId     : int  34 27 9 28 29 3 8 14 26 5 ...\n"
     ]
    }
   ],
   "source": [
    "#setId needs to be a factor in order to use multinomial logistic regression?\n",
    "train$setId <- factor(train$setId)\n",
    "test$setId <- factor(test$setId)\n",
    "str(train)"
   ]
  },
  {
   "cell_type": "code",
   "execution_count": 9,
   "metadata": {},
   "outputs": [
    {
     "data": {
      "text/html": [
       "<table>\n",
       "<thead><tr><th></th><th scope=col>iperf</th><th scope=col>sysbench</th><th scope=col>ycruncher</th><th scope=col>pgbench</th><th scope=col>setId</th><th scope=col>vmId</th></tr></thead>\n",
       "<tbody>\n",
       "\t<tr><th scope=row>1500</th><td>1.617 </td><td>9.0258</td><td>4.943 </td><td>31489 </td><td>32    </td><td> 4    </td></tr>\n",
       "\t<tr><th scope=row>2025</th><td>1.182 </td><td>9.0180</td><td>5.647 </td><td>28527 </td><td>37    </td><td> 9    </td></tr>\n",
       "\t<tr><th scope=row>2261</th><td>1.950 </td><td>9.0186</td><td>4.926 </td><td>29034 </td><td>39    </td><td>13    </td></tr>\n",
       "\t<tr><th scope=row>1315</th><td>2.461 </td><td>9.0176</td><td>4.875 </td><td>31302 </td><td>30    </td><td> 4    </td></tr>\n",
       "\t<tr><th scope=row>685</th><td>2.189 </td><td>9.0229</td><td>4.827 </td><td>33580 </td><td>21    </td><td>19    </td></tr>\n",
       "\t<tr><th scope=row>54</th><td>1.498 </td><td>9.0224</td><td>4.224 </td><td>35907 </td><td>6     </td><td> 3    </td></tr>\n",
       "</tbody>\n",
       "</table>\n"
      ],
      "text/latex": [
       "\\begin{tabular}{r|llllll}\n",
       "  & iperf & sysbench & ycruncher & pgbench & setId & vmId\\\\\n",
       "\\hline\n",
       "\t1500 & 1.617  & 9.0258 & 4.943  & 31489  & 32     &  4    \\\\\n",
       "\t2025 & 1.182  & 9.0180 & 5.647  & 28527  & 37     &  9    \\\\\n",
       "\t2261 & 1.950  & 9.0186 & 4.926  & 29034  & 39     & 13    \\\\\n",
       "\t1315 & 2.461  & 9.0176 & 4.875  & 31302  & 30     &  4    \\\\\n",
       "\t685 & 2.189  & 9.0229 & 4.827  & 33580  & 21     & 19    \\\\\n",
       "\t54 & 1.498  & 9.0224 & 4.224  & 35907  & 6      &  3    \\\\\n",
       "\\end{tabular}\n"
      ],
      "text/markdown": [
       "\n",
       "| <!--/--> | iperf | sysbench | ycruncher | pgbench | setId | vmId | \n",
       "|---|---|---|---|---|---|\n",
       "| 1500 | 1.617  | 9.0258 | 4.943  | 31489  | 32     |  4     | \n",
       "| 2025 | 1.182  | 9.0180 | 5.647  | 28527  | 37     |  9     | \n",
       "| 2261 | 1.950  | 9.0186 | 4.926  | 29034  | 39     | 13     | \n",
       "| 1315 | 2.461  | 9.0176 | 4.875  | 31302  | 30     |  4     | \n",
       "| 685 | 2.189  | 9.0229 | 4.827  | 33580  | 21     | 19     | \n",
       "| 54 | 1.498  | 9.0224 | 4.224  | 35907  | 6      |  3     | \n",
       "\n",
       "\n"
      ],
      "text/plain": [
       "     iperf sysbench ycruncher pgbench setId vmId\n",
       "1500 1.617 9.0258   4.943     31489   32     4  \n",
       "2025 1.182 9.0180   5.647     28527   37     9  \n",
       "2261 1.950 9.0186   4.926     29034   39    13  \n",
       "1315 2.461 9.0176   4.875     31302   30     4  \n",
       "685  2.189 9.0229   4.827     33580   21    19  \n",
       "54   1.498 9.0224   4.224     35907   6      3  "
      ]
     },
     "metadata": {},
     "output_type": "display_data"
    }
   ],
   "source": [
    "\n",
    "# Setting the basline \n",
    "#Only works when the you are predicting a factor.\n",
    "train$setId <- relevel(train$setId, ref = \"24\")\n",
    "head(train)"
   ]
  },
  {
   "cell_type": "code",
   "execution_count": 13,
   "metadata": {},
   "outputs": [
    {
     "name": "stdout",
     "output_type": "stream",
     "text": [
      "# weights:  288 (235 variable)\n",
      "initial  value 9561.866497 \n",
      "iter  10 value 7970.325357\n",
      "iter  20 value 7279.885722\n",
      "iter  30 value 7083.408766\n",
      "iter  40 value 6920.862347\n",
      "iter  50 value 6808.986722\n",
      "iter  60 value 6711.782410\n",
      "iter  70 value 6572.318650\n",
      "iter  80 value 6488.744796\n",
      "iter  90 value 6440.014555\n",
      "iter 100 value 6409.911763\n",
      "final  value 6409.911763 \n",
      "stopped after 100 iterations\n"
     ]
    },
    {
     "data": {
      "text/plain": [
       "Call:\n",
       "multinom(formula = setId ~ iperf + ycruncher + sysbench + pgbench, \n",
       "    data = train)\n",
       "\n",
       "Coefficients:\n",
       "   (Intercept)      iperf   ycruncher     sysbench     pgbench\n",
       "2   -41.012962   28.68690  70.1414309 102.83214435 -10.5056250\n",
       "3    20.755128  -10.97875 -79.1851187   0.29105692   6.0666250\n",
       "4    22.028246  -12.95468 -81.9515204   0.81967513   6.0800713\n",
       "5    21.173795  -12.39260 -63.6179176 -13.74027763   3.3340138\n",
       "6    17.325263  -11.72265 -49.0176213  11.78138569   2.4223783\n",
       "7    16.114345  -12.25341 -42.1394975   7.82650388   3.4679533\n",
       "8    12.197063  -12.42987 -25.2160265  33.37296215   3.2705985\n",
       "9    23.048724  -15.56528 -63.9386069  -9.10083721   3.0992233\n",
       "10   24.540903  -16.55336 -67.3911484 -41.91935336   2.6094267\n",
       "11   24.874643  -18.27887 -68.7925356   1.24750826   0.8073076\n",
       "12   24.760105  -19.51838 -71.3492135  11.70391503   4.1182030\n",
       "13   21.587753  -18.04712 -53.9995712   1.70947538   1.8644016\n",
       "14   21.361182  -20.05072 -51.5601730  -7.22584901   3.1661046\n",
       "15   19.525856  -19.11257 -42.7671935 -10.20064987   1.3475454\n",
       "16   18.693503  -19.45600 -36.5842882 -11.23810008  -0.4232179\n",
       "17    9.963122  -21.69253  -3.3785916  25.99059033  -0.7173056\n",
       "18   11.173985  -21.78539  -3.8875281  -4.04125301  -2.7325979\n",
       "19   10.950129  -24.38490   0.3201188 -36.53003362  -4.0747105\n",
       "20    9.733296  -24.21295   3.5321673 -12.86549014  -4.2688235\n",
       "21    7.491771  -26.34999  11.5422020  -9.36286750  -6.7193785\n",
       "22    6.721399  -30.33287  13.5184162  -6.82094532  -5.5012314\n",
       "23    7.512177  -30.26834  11.6520759   3.78645993  -5.7183318\n",
       "24    7.663970  -33.33390  13.1762325 -15.30663695  -6.1434141\n",
       "25    6.931754  -41.61161  14.8564647   4.91158875  -5.0984041\n",
       "26    6.583016  -44.21653  15.8890362   7.32616985  -4.5821773\n",
       "27    6.985159  -44.53195  14.8091658   4.88864911  -3.4089334\n",
       "28    7.631555  -45.25253  14.7415555 -13.65790090  -3.7173255\n",
       "29    3.397547  -45.63347  24.0848438  -4.11891293  -7.7502870\n",
       "30   -0.159289  -51.41323  30.8238678  -4.04822469  -3.8606465\n",
       "31   -1.588795  -55.15479  34.9842223 -10.68986281  -6.3848990\n",
       "32   -7.593488  -62.02424  46.2094514  15.17610201  -6.4900804\n",
       "33  -28.785026  -68.12637  88.2840600   0.06929798 -15.7320511\n",
       "34  -29.532211  -72.16037  89.9322936   4.95863914 -17.2699677\n",
       "35  -29.721898  -76.84720  90.9951723  -3.33345218 -17.3097123\n",
       "36  -29.620337  -78.33698  90.9587687   0.92759908 -18.3631239\n",
       "37  -31.085110  -84.17895  93.2512328   8.14669186 -18.2354137\n",
       "38  -31.262446  -88.88325  94.0700497   1.22676830 -19.1542517\n",
       "39  -31.655322  -92.26767  94.9217732  -3.47533492 -19.8377500\n",
       "40  -32.996994 -101.48182  97.2280792  -6.34866106 -19.1626574\n",
       "41  -35.993626 -103.63096 101.3371931  -9.34256539 -22.3368247\n",
       "42  -35.985949 -112.55238 101.6529168  -8.76616793 -20.3070423\n",
       "43  -35.783326 -116.18976 101.3260557  -1.69860687 -21.2247934\n",
       "44  -36.804541 -123.64415 102.8126292  -4.34723016 -20.1968332\n",
       "45  -38.985893 -119.83013 105.0884333   4.88064283 -22.6932709\n",
       "46  -40.227859 -125.92321 107.2001593 -17.37039609 -21.8581718\n",
       "47  -54.606330 -135.99991 122.4026673   6.63238178 -22.1351019\n",
       "48  -48.489323 -142.02331 116.1152404   7.11349200 -22.2384478\n",
       "\n",
       "Std. Errors:\n",
       "   (Intercept)      iperf ycruncher  sysbench    pgbench\n",
       "2   111.981158 109.399239 207.35642 154.14884 114.368629\n",
       "3    10.139275   6.356554  32.85298  73.80507   3.460418\n",
       "4    10.100698   6.366874  32.91315  76.44129   3.558962\n",
       "5     9.984619   5.947298  32.38666  63.73319   3.290138\n",
       "6    10.165731   5.962171  33.24458  64.04840   3.414246\n",
       "7    10.132480   5.901318  33.15993  61.65594   3.240093\n",
       "8    10.038265   5.832186  32.70392  58.95087   3.196955\n",
       "9     9.931754   5.908927  32.20921  60.52729   3.293186\n",
       "10    9.943707   5.983805  32.25663  62.44073   3.450720\n",
       "11    9.946373   6.057441  32.25464  61.22148   3.940193\n",
       "12    9.937829   6.102693  32.24182  61.19832   3.475545\n",
       "13    9.998197   6.018979  32.54679  60.35263   3.554602\n",
       "14   10.014617   6.120261  32.64230  60.39212   3.492182\n",
       "15   10.065262   6.105314  32.88992  60.47711   3.662155\n",
       "16   10.031715   6.083005  32.71236  59.86273   3.759840\n",
       "17    9.928515   6.291712  32.14686  59.42772   3.706668\n",
       "18    9.930440   6.293177  32.15598  59.58033   3.818023\n",
       "19    9.929237   6.608702  32.13228  60.43841   3.969656\n",
       "20    9.921019   6.556824  32.10187  59.78757   3.889974\n",
       "21    9.925082   6.991008  32.09259  59.86828   4.054528\n",
       "22    9.930288   7.352026  32.09815  60.03031   3.970135\n",
       "23    9.921628   7.069440  32.09017  59.63436   3.920117\n",
       "24    9.922116   7.199769  32.09100  59.74610   3.930735\n",
       "25    9.926815   7.662870  32.09714  59.77139   3.864437\n",
       "26    9.927785   7.714417  32.09873  59.72423   3.807671\n",
       "27    9.923817   7.632941  32.09497  59.66999   3.734909\n",
       "28    9.920374   7.497830  32.09176  59.64209   3.732067\n",
       "29    9.990387   7.999520  32.16764  59.88045   4.083292\n",
       "30   10.120841   7.977530  32.31816  59.80295   3.732943\n",
       "31   10.297703   8.117830  32.52126  59.86210   3.891562\n",
       "32   10.501167   8.275649  32.76588  59.69654   3.861856\n",
       "33   10.522354   8.924503  32.79129  59.84920   3.990296\n",
       "34   10.522968   9.152192  32.79043  59.83524   4.025285\n",
       "35   10.520866   9.156420  32.78952  59.84155   4.011627\n",
       "36   10.522158   9.244970  32.79002  59.82672   4.065031\n",
       "37   10.523637   9.577227  32.79053  59.81635   4.030501\n",
       "38   10.525481   9.808656  32.79147  59.88275   4.077020\n",
       "39   10.528565  10.091305  32.79280  59.95931   4.131853\n",
       "40   10.531304  10.290787  32.79398  59.95506   4.043732\n",
       "41   10.554055  10.751782  32.80197  59.96155   4.342147\n",
       "42   10.548169  10.557487  32.80029  59.91444   4.064769\n",
       "43   10.551489  10.856819  32.80171  59.92816   4.159124\n",
       "44   10.558857  10.889463  32.80464  59.92854   4.055498\n",
       "45   10.585477  11.042769  32.81389  59.87716   4.326060\n",
       "46   10.602195  10.992453  32.81997  59.98139   4.165950\n",
       "47   10.989252  11.170961  32.95796  59.85246   4.136752\n",
       "48   10.780345  11.235843  32.88362  59.85490   4.154907\n",
       "\n",
       "Residual Deviance: 12819.82 \n",
       "AIC: 13289.82 "
      ]
     },
     "metadata": {},
     "output_type": "display_data"
    }
   ],
   "source": [
    "\n",
    "# Loading the nnet package\n",
    "require(nnet)\n",
    "# Training the multinomial model\n",
    "multinom.fit <- multinom(setId ~ iperf + ycruncher + sysbench + pgbench, data = train)\n",
    "\n",
    "# Checking the model\n",
    "summary(multinom.fit)\n"
   ]
  },
  {
   "cell_type": "code",
   "execution_count": 8,
   "metadata": {},
   "outputs": [
    {
     "data": {
      "text/html": [
       "<ol class=list-inline>\n",
       "\t<li>'2'</li>\n",
       "\t<li>'3'</li>\n",
       "\t<li>'4'</li>\n",
       "\t<li>'5'</li>\n",
       "\t<li>'6'</li>\n",
       "\t<li>'7'</li>\n",
       "\t<li>'8'</li>\n",
       "\t<li>'9'</li>\n",
       "\t<li>'10'</li>\n",
       "\t<li>'11'</li>\n",
       "\t<li>'12'</li>\n",
       "\t<li>'13'</li>\n",
       "\t<li>'14'</li>\n",
       "\t<li>'15'</li>\n",
       "\t<li>'16'</li>\n",
       "\t<li>'17'</li>\n",
       "\t<li>'18'</li>\n",
       "\t<li>'19'</li>\n",
       "\t<li>'20'</li>\n",
       "\t<li>'21'</li>\n",
       "\t<li>'22'</li>\n",
       "\t<li>'23'</li>\n",
       "\t<li>'24'</li>\n",
       "\t<li>'25'</li>\n",
       "\t<li>'26'</li>\n",
       "\t<li>'27'</li>\n",
       "\t<li>'28'</li>\n",
       "\t<li>'29'</li>\n",
       "\t<li>'30'</li>\n",
       "\t<li>'31'</li>\n",
       "\t<li>'32'</li>\n",
       "\t<li>'33'</li>\n",
       "\t<li>'34'</li>\n",
       "\t<li>'35'</li>\n",
       "\t<li>'36'</li>\n",
       "\t<li>'37'</li>\n",
       "\t<li>'38'</li>\n",
       "\t<li>'39'</li>\n",
       "\t<li>'40'</li>\n",
       "\t<li>'41'</li>\n",
       "\t<li>'42'</li>\n",
       "\t<li>'43'</li>\n",
       "\t<li>'44'</li>\n",
       "\t<li>'45'</li>\n",
       "\t<li>'46'</li>\n",
       "\t<li>'47'</li>\n",
       "\t<li>'48'</li>\n",
       "</ol>\n"
      ],
      "text/latex": [
       "\\begin{enumerate*}\n",
       "\\item '2'\n",
       "\\item '3'\n",
       "\\item '4'\n",
       "\\item '5'\n",
       "\\item '6'\n",
       "\\item '7'\n",
       "\\item '8'\n",
       "\\item '9'\n",
       "\\item '10'\n",
       "\\item '11'\n",
       "\\item '12'\n",
       "\\item '13'\n",
       "\\item '14'\n",
       "\\item '15'\n",
       "\\item '16'\n",
       "\\item '17'\n",
       "\\item '18'\n",
       "\\item '19'\n",
       "\\item '20'\n",
       "\\item '21'\n",
       "\\item '22'\n",
       "\\item '23'\n",
       "\\item '24'\n",
       "\\item '25'\n",
       "\\item '26'\n",
       "\\item '27'\n",
       "\\item '28'\n",
       "\\item '29'\n",
       "\\item '30'\n",
       "\\item '31'\n",
       "\\item '32'\n",
       "\\item '33'\n",
       "\\item '34'\n",
       "\\item '35'\n",
       "\\item '36'\n",
       "\\item '37'\n",
       "\\item '38'\n",
       "\\item '39'\n",
       "\\item '40'\n",
       "\\item '41'\n",
       "\\item '42'\n",
       "\\item '43'\n",
       "\\item '44'\n",
       "\\item '45'\n",
       "\\item '46'\n",
       "\\item '47'\n",
       "\\item '48'\n",
       "\\end{enumerate*}\n"
      ],
      "text/markdown": [
       "1. '2'\n",
       "2. '3'\n",
       "3. '4'\n",
       "4. '5'\n",
       "5. '6'\n",
       "6. '7'\n",
       "7. '8'\n",
       "8. '9'\n",
       "9. '10'\n",
       "10. '11'\n",
       "11. '12'\n",
       "12. '13'\n",
       "13. '14'\n",
       "14. '15'\n",
       "15. '16'\n",
       "16. '17'\n",
       "17. '18'\n",
       "18. '19'\n",
       "19. '20'\n",
       "20. '21'\n",
       "21. '22'\n",
       "22. '23'\n",
       "23. '24'\n",
       "24. '25'\n",
       "25. '26'\n",
       "26. '27'\n",
       "27. '28'\n",
       "28. '29'\n",
       "29. '30'\n",
       "30. '31'\n",
       "31. '32'\n",
       "32. '33'\n",
       "33. '34'\n",
       "34. '35'\n",
       "35. '36'\n",
       "36. '37'\n",
       "37. '38'\n",
       "38. '39'\n",
       "39. '40'\n",
       "40. '41'\n",
       "41. '42'\n",
       "42. '43'\n",
       "43. '44'\n",
       "44. '45'\n",
       "45. '46'\n",
       "46. '47'\n",
       "47. '48'\n",
       "\n",
       "\n"
      ],
      "text/plain": [
       " [1] \"2\"  \"3\"  \"4\"  \"5\"  \"6\"  \"7\"  \"8\"  \"9\"  \"10\" \"11\" \"12\" \"13\" \"14\" \"15\" \"16\"\n",
       "[16] \"17\" \"18\" \"19\" \"20\" \"21\" \"22\" \"23\" \"24\" \"25\" \"26\" \"27\" \"28\" \"29\" \"30\" \"31\"\n",
       "[31] \"32\" \"33\" \"34\" \"35\" \"36\" \"37\" \"38\" \"39\" \"40\" \"41\" \"42\" \"43\" \"44\" \"45\" \"46\"\n",
       "[46] \"47\" \"48\""
      ]
     },
     "metadata": {},
     "output_type": "display_data"
    },
    {
     "data": {
      "text/html": [
       "<table>\n",
       "<thead><tr><th></th><th scope=col>iperf</th><th scope=col>sysbench</th><th scope=col>ycruncher</th><th scope=col>pgbench</th><th scope=col>setId</th><th scope=col>vmId</th></tr></thead>\n",
       "<tbody>\n",
       "\t<tr><th scope=row>3207</th><td>0.01979265 </td><td>0.014891775</td><td>0.9474907  </td><td>0.91840073 </td><td>46         </td><td>34         </td></tr>\n",
       "\t<tr><th scope=row>1764</th><td>0.08332871 </td><td>0.005194805</td><td>0.7388476  </td><td>0.20580988 </td><td>34         </td><td>27         </td></tr>\n",
       "\t<tr><th scope=row>1331</th><td>0.05311305 </td><td>0.014199134</td><td>0.5427509  </td><td>0.06737479 </td><td>30         </td><td> 9         </td></tr>\n",
       "\t<tr><th scope=row>2667</th><td>0.02844154 </td><td>0.006926407</td><td>0.9507435  </td><td>0.04683521 </td><td>42         </td><td>28         </td></tr>\n",
       "\t<tr><th scope=row>1769</th><td>0.04496313 </td><td>0.049523810</td><td>0.5385688  </td><td>0.07172288 </td><td>34         </td><td>29         </td></tr>\n",
       "\t<tr><th scope=row>52</th><td>0.12180518 </td><td>0.028398268</td><td>0.2170074  </td><td>0.20338737 </td><td>6          </td><td> 3         </td></tr>\n",
       "</tbody>\n",
       "</table>\n"
      ],
      "text/latex": [
       "\\begin{tabular}{r|llllll}\n",
       "  & iperf & sysbench & ycruncher & pgbench & setId & vmId\\\\\n",
       "\\hline\n",
       "\t3207 & 0.01979265  & 0.014891775 & 0.9474907   & 0.91840073  & 46          & 34         \\\\\n",
       "\t1764 & 0.08332871  & 0.005194805 & 0.7388476   & 0.20580988  & 34          & 27         \\\\\n",
       "\t1331 & 0.05311305  & 0.014199134 & 0.5427509   & 0.06737479  & 30          &  9         \\\\\n",
       "\t2667 & 0.02844154  & 0.006926407 & 0.9507435   & 0.04683521  & 42          & 28         \\\\\n",
       "\t1769 & 0.04496313  & 0.049523810 & 0.5385688   & 0.07172288  & 34          & 29         \\\\\n",
       "\t52 & 0.12180518  & 0.028398268 & 0.2170074   & 0.20338737  & 6           &  3         \\\\\n",
       "\\end{tabular}\n"
      ],
      "text/markdown": [
       "\n",
       "| <!--/--> | iperf | sysbench | ycruncher | pgbench | setId | vmId | \n",
       "|---|---|---|---|---|---|\n",
       "| 3207 | 0.01979265  | 0.014891775 | 0.9474907   | 0.91840073  | 46          | 34          | \n",
       "| 1764 | 0.08332871  | 0.005194805 | 0.7388476   | 0.20580988  | 34          | 27          | \n",
       "| 1331 | 0.05311305  | 0.014199134 | 0.5427509   | 0.06737479  | 30          |  9          | \n",
       "| 2667 | 0.02844154  | 0.006926407 | 0.9507435   | 0.04683521  | 42          | 28          | \n",
       "| 1769 | 0.04496313  | 0.049523810 | 0.5385688   | 0.07172288  | 34          | 29          | \n",
       "| 52 | 0.12180518  | 0.028398268 | 0.2170074   | 0.20338737  | 6           |  3          | \n",
       "\n",
       "\n"
      ],
      "text/plain": [
       "     iperf      sysbench    ycruncher pgbench    setId vmId\n",
       "3207 0.01979265 0.014891775 0.9474907 0.91840073 46    34  \n",
       "1764 0.08332871 0.005194805 0.7388476 0.20580988 34    27  \n",
       "1331 0.05311305 0.014199134 0.5427509 0.06737479 30     9  \n",
       "2667 0.02844154 0.006926407 0.9507435 0.04683521 42    28  \n",
       "1769 0.04496313 0.049523810 0.5385688 0.07172288 34    29  \n",
       "52   0.12180518 0.028398268 0.2170074 0.20338737 6      3  "
      ]
     },
     "metadata": {},
     "output_type": "display_data"
    }
   ],
   "source": [
    "#predicted_scores <- predict (multinom.fit, test, \"probs\")\n",
    "#predicted_scores\n",
    "levels(train$setId)\n",
    "head(train)"
   ]
  },
  {
   "cell_type": "code",
   "execution_count": 14,
   "metadata": {},
   "outputs": [
    {
     "ename": "ERROR",
     "evalue": "Error in UseMethod(\"predict\"): no applicable method for 'predict' applied to an object of class \"character\"\n",
     "output_type": "error",
     "traceback": [
      "Error in UseMethod(\"predict\"): no applicable method for 'predict' applied to an object of class \"character\"\nTraceback:\n",
      "1. predict(model = multinom.fit, newdata = train, \"class\")"
     ]
    }
   ],
   "source": [
    "# Predicting the values for train dataset\n",
    "train$predicted <- predict(model=multinom.fit, newdata = train, \"class\")\n",
    " \n",
    "# Building classification table\n",
    "ctable <- table(train$setId, train$predicted)\n",
    " \n",
    "# Calculating accuracy - sum of diagonal elements divided by total obs\n",
    "#round((sum(diag(ctable))/sum(ctable))*100,2)\n",
    "#Just over 4% accuracy,  no bueno\n",
    "head(ctable)"
   ]
  },
  {
   "cell_type": "code",
   "execution_count": 29,
   "metadata": {},
   "outputs": [
    {
     "data": {
      "text/html": [
       "7.75"
      ],
      "text/latex": [
       "7.75"
      ],
      "text/markdown": [
       "7.75"
      ],
      "text/plain": [
       "[1] 7.75"
      ]
     },
     "metadata": {},
     "output_type": "display_data"
    }
   ],
   "source": [
    "# Predicting the values for train dataset\n",
    "test$predicted <- predict(multinom.fit, newdata = test, \"class\")\n",
    " \n",
    "# Building classification table\n",
    "ctable <- table(test$setId, test$predicted)\n",
    " \n",
    "# Calculating accuracy - sum of diagonal elements divided by total obs\n",
    "round((sum(diag(ctable))/sum(ctable))*100,2)\n",
    "#3.12"
   ]
  },
  {
   "cell_type": "code",
   "execution_count": 24,
   "metadata": {},
   "outputs": [
    {
     "data": {
      "image/png": "[encoded data removed]",
      "text/plain": [
       "Plot with title “”"
      ]
     },
     "metadata": {},
     "output_type": "display_data"
    }
   ],
   "source": [
    "plot(x = test$setId , y = test$predicted,col=\"blue\",pch=19,xlab=\"set observed\",ylab=\"set predicted\")\n",
    "axis(1,1:16,1:16,cex.axis=0.8)\n",
    "axis(2,1:16,1:16,cex.axis=0.8)\n",
    "par(new=TRUE)\n",
    "lines(x = range(1:16) , y = range(1:16),col=\"red\")\n",
    "legend(\"topright\",legend=c(\"observed value\",\"predicted value\"),pch=19, col=c(\"red\",\"blue\"))"
   ]
  },
  {
   "cell_type": "code",
   "execution_count": 26,
   "metadata": {},
   "outputs": [
    {
     "name": "stdout",
     "output_type": "stream",
     "text": [
      "[1] \"correct prediction\"\n"
     ]
    },
    {
     "data": {
      "text/html": [
       "0.0453257790368272"
      ],
      "text/latex": [
       "0.0453257790368272"
      ],
      "text/markdown": [
       "0.0453257790368272"
      ],
      "text/plain": [
       "[1] 0.04532578"
      ]
     },
     "metadata": {},
     "output_type": "display_data"
    }
   ],
   "source": [
    "print(\"correct prediction\")\n",
    "mean(as.character(predicted_class) == as.character(testingSet$setId))"
   ]
  },
  {
   "cell_type": "code",
   "execution_count": null,
   "metadata": {},
   "outputs": [],
   "source": []
  }
 ],
 "metadata": {
  "kernelspec": {
   "display_name": "R",
   "language": "R",
   "name": "ir"
  },
  "language_info": {
   "codemirror_mode": "r",
   "file_extension": ".r",
   "mimetype": "text/x-r-source",
   "name": "R",
   "pygments_lexer": "r",
   "version": "3.4.4"
  }
 },
 "nbformat": 4,
 "nbformat_minor": 2
}
