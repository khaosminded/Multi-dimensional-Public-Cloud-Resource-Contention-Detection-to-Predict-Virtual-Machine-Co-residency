{
 "cells": [
  {
   "cell_type": "code",
   "execution_count": 1,
   "metadata": {},
   "outputs": [
    {
     "data": {
      "text/html": [
       "<table>\n",
       "<thead><tr><th scope=col>instanceID</th><th scope=col>experimentID</th><th scope=col>setid</th><th scope=col>instanceType</th><th scope=col>memoryInfo</th><th scope=col>processorInfo</th><th scope=col>sysTopology</th><th scope=col>osVersion</th><th scope=col>testStartTime</th><th scope=col>availableMemory</th><th scope=col>isMultiThread</th><th scope=col>cpuUtilization</th><th scope=col>multiCoreEfficiency</th><th scope=col>computationTime</th><th scope=col>benchmarkTime</th><th scope=col>wallTime</th></tr></thead>\n",
       "<tbody>\n",
       "\t<tr><td>i-0b1a24509615d442c                          </td><td>1566527145-0                                 </td><td>0                                            </td><td>m5d.large                                    </td><td>7.51 GiB                                     </td><td>Intel(R) Xeon(R) Platinum 8175M CPU @ 2.50GHz</td><td>2 threads / 1 core / 1 socket / 1 NUMA node  </td><td>0.7.5.9480 (Linux/17-SKX ~ Kotori)           </td><td>Fri Aug 23 02:35:02 2019                     </td><td>7.18 GiB                                     </td><td>Push                                         </td><td>196.46 %                                     </td><td>98.23 %                                      </td><td>5.818                                        </td><td>5.998                                        </td><td>7.384772                                     </td></tr>\n",
       "\t<tr><td>i-0b1a24509615d442c                          </td><td>1566527145-0                                 </td><td>0                                            </td><td>m5d.large                                    </td><td>7.51 GiB                                     </td><td>Intel(R) Xeon(R) Platinum 8175M CPU @ 2.50GHz</td><td>2 threads / 1 core / 1 socket / 1 NUMA node  </td><td>0.7.5.9480 (Linux/17-SKX ~ Kotori)           </td><td>Fri Aug 23 02:35:09 2019                     </td><td>7.16 GiB                                     </td><td>Push                                         </td><td>196.34 %                                     </td><td>98.17 %                                      </td><td>5.822                                        </td><td>6.056                                        </td><td>6.502290                                     </td></tr>\n",
       "\t<tr><td>i-0b1a24509615d442c                          </td><td>1566527145-0                                 </td><td>0                                            </td><td>m5d.large                                    </td><td>7.51 GiB                                     </td><td>Intel(R) Xeon(R) Platinum 8175M CPU @ 2.50GHz</td><td>2 threads / 1 core / 1 socket / 1 NUMA node  </td><td>0.7.5.9480 (Linux/17-SKX ~ Kotori)           </td><td>Fri Aug 23 02:35:15 2019                     </td><td>7.18 GiB                                     </td><td>Push                                         </td><td>196.39 %                                     </td><td>98.20 %                                      </td><td>5.825                                        </td><td>6.043                                        </td><td>6.500772                                     </td></tr>\n",
       "\t<tr><td>i-0b1a24509615d442c                          </td><td>1566527145-0                                 </td><td>0                                            </td><td>m5d.large                                    </td><td>7.51 GiB                                     </td><td>Intel(R) Xeon(R) Platinum 8175M CPU @ 2.50GHz</td><td>2 threads / 1 core / 1 socket / 1 NUMA node  </td><td>0.7.5.9480 (Linux/17-SKX ~ Kotori)           </td><td>Fri Aug 23 02:35:22 2019                     </td><td>7.18 GiB                                     </td><td>Push                                         </td><td>196.14 %                                     </td><td>98.07 %                                      </td><td>5.822                                        </td><td>6.055                                        </td><td>6.507984                                     </td></tr>\n",
       "\t<tr><td>i-0b1a24509615d442c                          </td><td>1566527145-0                                 </td><td>0                                            </td><td>m5d.large                                    </td><td>7.51 GiB                                     </td><td>Intel(R) Xeon(R) Platinum 8175M CPU @ 2.50GHz</td><td>2 threads / 1 core / 1 socket / 1 NUMA node  </td><td>0.7.5.9480 (Linux/17-SKX ~ Kotori)           </td><td>Fri Aug 23 02:35:29 2019                     </td><td>7.18 GiB                                     </td><td>Push                                         </td><td>196.63 %                                     </td><td>98.31 %                                      </td><td>5.849                                        </td><td>6.080                                        </td><td>6.531672                                     </td></tr>\n",
       "\t<tr><td>i-0b1a24509615d442c                          </td><td>1566527145-0                                 </td><td>0                                            </td><td>m5d.large                                    </td><td>7.51 GiB                                     </td><td>Intel(R) Xeon(R) Platinum 8175M CPU @ 2.50GHz</td><td>2 threads / 1 core / 1 socket / 1 NUMA node  </td><td>0.7.5.9480 (Linux/17-SKX ~ Kotori)           </td><td>Fri Aug 23 02:35:36 2019                     </td><td>7.18 GiB                                     </td><td>Push                                         </td><td>196.58 %                                     </td><td>98.29 %                                      </td><td>5.830                                        </td><td>6.062                                        </td><td>6.518610                                     </td></tr>\n",
       "</tbody>\n",
       "</table>\n"
      ],
      "text/latex": [
       "\\begin{tabular}{r|llllllllllllllll}\n",
       " instanceID & experimentID & setid & instanceType & memoryInfo & processorInfo & sysTopology & osVersion & testStartTime & availableMemory & isMultiThread & cpuUtilization & multiCoreEfficiency & computationTime & benchmarkTime & wallTime\\\\\n",
       "\\hline\n",
       "\t i-0b1a24509615d442c                                 & 1566527145-0                                        & 0                                                   & m5d.large                                           & 7.51 GiB                                            & Intel(R) Xeon(R) Platinum 8175M CPU @ 2.50GHz       & 2 threads / 1 core / 1 socket / 1 NUMA node         & 0.7.5.9480 (Linux/17-SKX \\textasciitilde{} Kotori) & Fri Aug 23 02:35:02 2019                            & 7.18 GiB                                            & Push                                                & 196.46 \\%                                          & 98.23 \\%                                           & 5.818                                               & 5.998                                               & 7.384772                                           \\\\\n",
       "\t i-0b1a24509615d442c                                 & 1566527145-0                                        & 0                                                   & m5d.large                                           & 7.51 GiB                                            & Intel(R) Xeon(R) Platinum 8175M CPU @ 2.50GHz       & 2 threads / 1 core / 1 socket / 1 NUMA node         & 0.7.5.9480 (Linux/17-SKX \\textasciitilde{} Kotori) & Fri Aug 23 02:35:09 2019                            & 7.16 GiB                                            & Push                                                & 196.34 \\%                                          & 98.17 \\%                                           & 5.822                                               & 6.056                                               & 6.502290                                           \\\\\n",
       "\t i-0b1a24509615d442c                                 & 1566527145-0                                        & 0                                                   & m5d.large                                           & 7.51 GiB                                            & Intel(R) Xeon(R) Platinum 8175M CPU @ 2.50GHz       & 2 threads / 1 core / 1 socket / 1 NUMA node         & 0.7.5.9480 (Linux/17-SKX \\textasciitilde{} Kotori) & Fri Aug 23 02:35:15 2019                            & 7.18 GiB                                            & Push                                                & 196.39 \\%                                          & 98.20 \\%                                           & 5.825                                               & 6.043                                               & 6.500772                                           \\\\\n",
       "\t i-0b1a24509615d442c                                 & 1566527145-0                                        & 0                                                   & m5d.large                                           & 7.51 GiB                                            & Intel(R) Xeon(R) Platinum 8175M CPU @ 2.50GHz       & 2 threads / 1 core / 1 socket / 1 NUMA node         & 0.7.5.9480 (Linux/17-SKX \\textasciitilde{} Kotori) & Fri Aug 23 02:35:22 2019                            & 7.18 GiB                                            & Push                                                & 196.14 \\%                                          & 98.07 \\%                                           & 5.822                                               & 6.055                                               & 6.507984                                           \\\\\n",
       "\t i-0b1a24509615d442c                                 & 1566527145-0                                        & 0                                                   & m5d.large                                           & 7.51 GiB                                            & Intel(R) Xeon(R) Platinum 8175M CPU @ 2.50GHz       & 2 threads / 1 core / 1 socket / 1 NUMA node         & 0.7.5.9480 (Linux/17-SKX \\textasciitilde{} Kotori) & Fri Aug 23 02:35:29 2019                            & 7.18 GiB                                            & Push                                                & 196.63 \\%                                          & 98.31 \\%                                           & 5.849                                               & 6.080                                               & 6.531672                                           \\\\\n",
       "\t i-0b1a24509615d442c                                 & 1566527145-0                                        & 0                                                   & m5d.large                                           & 7.51 GiB                                            & Intel(R) Xeon(R) Platinum 8175M CPU @ 2.50GHz       & 2 threads / 1 core / 1 socket / 1 NUMA node         & 0.7.5.9480 (Linux/17-SKX \\textasciitilde{} Kotori) & Fri Aug 23 02:35:36 2019                            & 7.18 GiB                                            & Push                                                & 196.58 \\%                                          & 98.29 \\%                                           & 5.830                                               & 6.062                                               & 6.518610                                           \\\\\n",
       "\\end{tabular}\n"
      ],
      "text/markdown": [
       "\n",
       "instanceID | experimentID | setid | instanceType | memoryInfo | processorInfo | sysTopology | osVersion | testStartTime | availableMemory | isMultiThread | cpuUtilization | multiCoreEfficiency | computationTime | benchmarkTime | wallTime | \n",
       "|---|---|---|---|---|---|\n",
       "| i-0b1a24509615d442c                           | 1566527145-0                                  | 0                                             | m5d.large                                     | 7.51 GiB                                      | Intel(R) Xeon(R) Platinum 8175M CPU @ 2.50GHz | 2 threads / 1 core / 1 socket / 1 NUMA node   | 0.7.5.9480 (Linux/17-SKX ~ Kotori)            | Fri Aug 23 02:35:02 2019                      | 7.18 GiB                                      | Push                                          | 196.46 %                                      | 98.23 %                                       | 5.818                                         | 5.998                                         | 7.384772                                      | \n",
       "| i-0b1a24509615d442c                           | 1566527145-0                                  | 0                                             | m5d.large                                     | 7.51 GiB                                      | Intel(R) Xeon(R) Platinum 8175M CPU @ 2.50GHz | 2 threads / 1 core / 1 socket / 1 NUMA node   | 0.7.5.9480 (Linux/17-SKX ~ Kotori)            | Fri Aug 23 02:35:09 2019                      | 7.16 GiB                                      | Push                                          | 196.34 %                                      | 98.17 %                                       | 5.822                                         | 6.056                                         | 6.502290                                      | \n",
       "| i-0b1a24509615d442c                           | 1566527145-0                                  | 0                                             | m5d.large                                     | 7.51 GiB                                      | Intel(R) Xeon(R) Platinum 8175M CPU @ 2.50GHz | 2 threads / 1 core / 1 socket / 1 NUMA node   | 0.7.5.9480 (Linux/17-SKX ~ Kotori)            | Fri Aug 23 02:35:15 2019                      | 7.18 GiB                                      | Push                                          | 196.39 %                                      | 98.20 %                                       | 5.825                                         | 6.043                                         | 6.500772                                      | \n",
       "| i-0b1a24509615d442c                           | 1566527145-0                                  | 0                                             | m5d.large                                     | 7.51 GiB                                      | Intel(R) Xeon(R) Platinum 8175M CPU @ 2.50GHz | 2 threads / 1 core / 1 socket / 1 NUMA node   | 0.7.5.9480 (Linux/17-SKX ~ Kotori)            | Fri Aug 23 02:35:22 2019                      | 7.18 GiB                                      | Push                                          | 196.14 %                                      | 98.07 %                                       | 5.822                                         | 6.055                                         | 6.507984                                      | \n",
       "| i-0b1a24509615d442c                           | 1566527145-0                                  | 0                                             | m5d.large                                     | 7.51 GiB                                      | Intel(R) Xeon(R) Platinum 8175M CPU @ 2.50GHz | 2 threads / 1 core / 1 socket / 1 NUMA node   | 0.7.5.9480 (Linux/17-SKX ~ Kotori)            | Fri Aug 23 02:35:29 2019                      | 7.18 GiB                                      | Push                                          | 196.63 %                                      | 98.31 %                                       | 5.849                                         | 6.080                                         | 6.531672                                      | \n",
       "| i-0b1a24509615d442c                           | 1566527145-0                                  | 0                                             | m5d.large                                     | 7.51 GiB                                      | Intel(R) Xeon(R) Platinum 8175M CPU @ 2.50GHz | 2 threads / 1 core / 1 socket / 1 NUMA node   | 0.7.5.9480 (Linux/17-SKX ~ Kotori)            | Fri Aug 23 02:35:36 2019                      | 7.18 GiB                                      | Push                                          | 196.58 %                                      | 98.29 %                                       | 5.830                                         | 6.062                                         | 6.518610                                      | \n",
       "\n",
       "\n"
      ],
      "text/plain": [
       "  instanceID          experimentID setid instanceType memoryInfo\n",
       "1 i-0b1a24509615d442c 1566527145-0 0     m5d.large    7.51 GiB  \n",
       "2 i-0b1a24509615d442c 1566527145-0 0     m5d.large    7.51 GiB  \n",
       "3 i-0b1a24509615d442c 1566527145-0 0     m5d.large    7.51 GiB  \n",
       "4 i-0b1a24509615d442c 1566527145-0 0     m5d.large    7.51 GiB  \n",
       "5 i-0b1a24509615d442c 1566527145-0 0     m5d.large    7.51 GiB  \n",
       "6 i-0b1a24509615d442c 1566527145-0 0     m5d.large    7.51 GiB  \n",
       "  processorInfo                                \n",
       "1 Intel(R) Xeon(R) Platinum 8175M CPU @ 2.50GHz\n",
       "2 Intel(R) Xeon(R) Platinum 8175M CPU @ 2.50GHz\n",
       "3 Intel(R) Xeon(R) Platinum 8175M CPU @ 2.50GHz\n",
       "4 Intel(R) Xeon(R) Platinum 8175M CPU @ 2.50GHz\n",
       "5 Intel(R) Xeon(R) Platinum 8175M CPU @ 2.50GHz\n",
       "6 Intel(R) Xeon(R) Platinum 8175M CPU @ 2.50GHz\n",
       "  sysTopology                                \n",
       "1 2 threads / 1 core / 1 socket / 1 NUMA node\n",
       "2 2 threads / 1 core / 1 socket / 1 NUMA node\n",
       "3 2 threads / 1 core / 1 socket / 1 NUMA node\n",
       "4 2 threads / 1 core / 1 socket / 1 NUMA node\n",
       "5 2 threads / 1 core / 1 socket / 1 NUMA node\n",
       "6 2 threads / 1 core / 1 socket / 1 NUMA node\n",
       "  osVersion                          testStartTime            availableMemory\n",
       "1 0.7.5.9480 (Linux/17-SKX ~ Kotori) Fri Aug 23 02:35:02 2019 7.18 GiB       \n",
       "2 0.7.5.9480 (Linux/17-SKX ~ Kotori) Fri Aug 23 02:35:09 2019 7.16 GiB       \n",
       "3 0.7.5.9480 (Linux/17-SKX ~ Kotori) Fri Aug 23 02:35:15 2019 7.18 GiB       \n",
       "4 0.7.5.9480 (Linux/17-SKX ~ Kotori) Fri Aug 23 02:35:22 2019 7.18 GiB       \n",
       "5 0.7.5.9480 (Linux/17-SKX ~ Kotori) Fri Aug 23 02:35:29 2019 7.18 GiB       \n",
       "6 0.7.5.9480 (Linux/17-SKX ~ Kotori) Fri Aug 23 02:35:36 2019 7.18 GiB       \n",
       "  isMultiThread cpuUtilization multiCoreEfficiency computationTime\n",
       "1 Push          196.46 %       98.23 %             5.818          \n",
       "2 Push          196.34 %       98.17 %             5.822          \n",
       "3 Push          196.39 %       98.20 %             5.825          \n",
       "4 Push          196.14 %       98.07 %             5.822          \n",
       "5 Push          196.63 %       98.31 %             5.849          \n",
       "6 Push          196.58 %       98.29 %             5.830          \n",
       "  benchmarkTime wallTime\n",
       "1 5.998         7.384772\n",
       "2 6.056         6.502290\n",
       "3 6.043         6.500772\n",
       "4 6.055         6.507984\n",
       "5 6.080         6.531672\n",
       "6 6.062         6.518610"
      ]
     },
     "metadata": {},
     "output_type": "display_data"
    }
   ],
   "source": [
    "y_cruncher <- read.table(\"./y_cruncher_08_22_2019.csv\", sep=\",\", header=TRUE)\n",
    "head(y_cruncher)"
   ]
  },
  {
   "cell_type": "code",
   "execution_count": 2,
   "metadata": {},
   "outputs": [
    {
     "name": "stdout",
     "output_type": "stream",
     "text": [
      "[1] 1\n",
      "[1] 48\n"
     ]
    },
    {
     "data": {
      "text/html": [
       "<ol class=list-inline>\n",
       "\t<li>'i-0061cb0d743e7b1e3'</li>\n",
       "\t<li>'i-0123add930d643ea9'</li>\n",
       "\t<li>'i-01440dd9efb728702'</li>\n",
       "\t<li>'i-0194585871a785405'</li>\n",
       "\t<li>'i-02307d707deaff428'</li>\n",
       "\t<li>'i-0256f2ea47ca97f61'</li>\n",
       "\t<li>'i-02d59179dabcee86c'</li>\n",
       "\t<li>'i-02e3ab10ce5161519'</li>\n",
       "\t<li>'i-03217bdde70f09f69'</li>\n",
       "\t<li>'i-0355d3c1c480dba73'</li>\n",
       "\t<li>'i-03abcea54e3216844'</li>\n",
       "\t<li>'i-03ae0b8ba00cc5a47'</li>\n",
       "\t<li>'i-03f5aceeaf9c5bc7a'</li>\n",
       "\t<li>'i-040a6fbe8ea9d0b6f'</li>\n",
       "\t<li>'i-0412cb24901c4a622'</li>\n",
       "\t<li>'i-0435b0a1e323aeab1'</li>\n",
       "\t<li>'i-048dc5a524cd92650'</li>\n",
       "\t<li>'i-04c3d7561c923a1ac'</li>\n",
       "\t<li>'i-0516ffd6bb6503c5c'</li>\n",
       "\t<li>'i-05c3626df24016fb8'</li>\n",
       "\t<li>'i-063273e14ad24d77d'</li>\n",
       "\t<li>'i-0662b90b8153db04f'</li>\n",
       "\t<li>'i-067ef5fc74b117914'</li>\n",
       "\t<li>'i-06bcc2ed9aee48d36'</li>\n",
       "\t<li>'i-07377918081db8513'</li>\n",
       "\t<li>'i-07542861c288ed45d'</li>\n",
       "\t<li>'i-077cde8ee8e08a135'</li>\n",
       "\t<li>'i-083287891870de749'</li>\n",
       "\t<li>'i-08aae4246978be73f'</li>\n",
       "\t<li>'i-08e53d6a2d665e9f7'</li>\n",
       "\t<li>'i-08f20c290d3c746b9'</li>\n",
       "\t<li>'i-0998f32a9a3755e5c'</li>\n",
       "\t<li>'i-0a76a67ad863e88a7'</li>\n",
       "\t<li>'i-0b0bd1d3eff7614eb'</li>\n",
       "\t<li>'i-0b1a24509615d442c'</li>\n",
       "\t<li>'i-0b3fe4fc03a63e6d5'</li>\n",
       "\t<li>'i-0b48f88d20ca55404'</li>\n",
       "\t<li>'i-0b81908ddd4364040'</li>\n",
       "\t<li>'i-0c2e5cb1cb890a119'</li>\n",
       "\t<li>'i-0c344cc05ad617669'</li>\n",
       "\t<li>'i-0cadc44d0d72feb7d'</li>\n",
       "\t<li>'i-0cde34f4c61f6b609'</li>\n",
       "\t<li>'i-0ddbc0d5e5319468f'</li>\n",
       "\t<li>'i-0e69c7fb69e6c2677'</li>\n",
       "\t<li>'i-0f9ad5ab413ab6ec8'</li>\n",
       "\t<li>'i-0fe493cdbaccfa180'</li>\n",
       "\t<li>'i-0ff0efc1e3751e607'</li>\n",
       "\t<li>'i-0ff51b86931e5c6d6'</li>\n",
       "</ol>\n"
      ],
      "text/latex": [
       "\\begin{enumerate*}\n",
       "\\item 'i-0061cb0d743e7b1e3'\n",
       "\\item 'i-0123add930d643ea9'\n",
       "\\item 'i-01440dd9efb728702'\n",
       "\\item 'i-0194585871a785405'\n",
       "\\item 'i-02307d707deaff428'\n",
       "\\item 'i-0256f2ea47ca97f61'\n",
       "\\item 'i-02d59179dabcee86c'\n",
       "\\item 'i-02e3ab10ce5161519'\n",
       "\\item 'i-03217bdde70f09f69'\n",
       "\\item 'i-0355d3c1c480dba73'\n",
       "\\item 'i-03abcea54e3216844'\n",
       "\\item 'i-03ae0b8ba00cc5a47'\n",
       "\\item 'i-03f5aceeaf9c5bc7a'\n",
       "\\item 'i-040a6fbe8ea9d0b6f'\n",
       "\\item 'i-0412cb24901c4a622'\n",
       "\\item 'i-0435b0a1e323aeab1'\n",
       "\\item 'i-048dc5a524cd92650'\n",
       "\\item 'i-04c3d7561c923a1ac'\n",
       "\\item 'i-0516ffd6bb6503c5c'\n",
       "\\item 'i-05c3626df24016fb8'\n",
       "\\item 'i-063273e14ad24d77d'\n",
       "\\item 'i-0662b90b8153db04f'\n",
       "\\item 'i-067ef5fc74b117914'\n",
       "\\item 'i-06bcc2ed9aee48d36'\n",
       "\\item 'i-07377918081db8513'\n",
       "\\item 'i-07542861c288ed45d'\n",
       "\\item 'i-077cde8ee8e08a135'\n",
       "\\item 'i-083287891870de749'\n",
       "\\item 'i-08aae4246978be73f'\n",
       "\\item 'i-08e53d6a2d665e9f7'\n",
       "\\item 'i-08f20c290d3c746b9'\n",
       "\\item 'i-0998f32a9a3755e5c'\n",
       "\\item 'i-0a76a67ad863e88a7'\n",
       "\\item 'i-0b0bd1d3eff7614eb'\n",
       "\\item 'i-0b1a24509615d442c'\n",
       "\\item 'i-0b3fe4fc03a63e6d5'\n",
       "\\item 'i-0b48f88d20ca55404'\n",
       "\\item 'i-0b81908ddd4364040'\n",
       "\\item 'i-0c2e5cb1cb890a119'\n",
       "\\item 'i-0c344cc05ad617669'\n",
       "\\item 'i-0cadc44d0d72feb7d'\n",
       "\\item 'i-0cde34f4c61f6b609'\n",
       "\\item 'i-0ddbc0d5e5319468f'\n",
       "\\item 'i-0e69c7fb69e6c2677'\n",
       "\\item 'i-0f9ad5ab413ab6ec8'\n",
       "\\item 'i-0fe493cdbaccfa180'\n",
       "\\item 'i-0ff0efc1e3751e607'\n",
       "\\item 'i-0ff51b86931e5c6d6'\n",
       "\\end{enumerate*}\n"
      ],
      "text/markdown": [
       "1. 'i-0061cb0d743e7b1e3'\n",
       "2. 'i-0123add930d643ea9'\n",
       "3. 'i-01440dd9efb728702'\n",
       "4. 'i-0194585871a785405'\n",
       "5. 'i-02307d707deaff428'\n",
       "6. 'i-0256f2ea47ca97f61'\n",
       "7. 'i-02d59179dabcee86c'\n",
       "8. 'i-02e3ab10ce5161519'\n",
       "9. 'i-03217bdde70f09f69'\n",
       "10. 'i-0355d3c1c480dba73'\n",
       "11. 'i-03abcea54e3216844'\n",
       "12. 'i-03ae0b8ba00cc5a47'\n",
       "13. 'i-03f5aceeaf9c5bc7a'\n",
       "14. 'i-040a6fbe8ea9d0b6f'\n",
       "15. 'i-0412cb24901c4a622'\n",
       "16. 'i-0435b0a1e323aeab1'\n",
       "17. 'i-048dc5a524cd92650'\n",
       "18. 'i-04c3d7561c923a1ac'\n",
       "19. 'i-0516ffd6bb6503c5c'\n",
       "20. 'i-05c3626df24016fb8'\n",
       "21. 'i-063273e14ad24d77d'\n",
       "22. 'i-0662b90b8153db04f'\n",
       "23. 'i-067ef5fc74b117914'\n",
       "24. 'i-06bcc2ed9aee48d36'\n",
       "25. 'i-07377918081db8513'\n",
       "26. 'i-07542861c288ed45d'\n",
       "27. 'i-077cde8ee8e08a135'\n",
       "28. 'i-083287891870de749'\n",
       "29. 'i-08aae4246978be73f'\n",
       "30. 'i-08e53d6a2d665e9f7'\n",
       "31. 'i-08f20c290d3c746b9'\n",
       "32. 'i-0998f32a9a3755e5c'\n",
       "33. 'i-0a76a67ad863e88a7'\n",
       "34. 'i-0b0bd1d3eff7614eb'\n",
       "35. 'i-0b1a24509615d442c'\n",
       "36. 'i-0b3fe4fc03a63e6d5'\n",
       "37. 'i-0b48f88d20ca55404'\n",
       "38. 'i-0b81908ddd4364040'\n",
       "39. 'i-0c2e5cb1cb890a119'\n",
       "40. 'i-0c344cc05ad617669'\n",
       "41. 'i-0cadc44d0d72feb7d'\n",
       "42. 'i-0cde34f4c61f6b609'\n",
       "43. 'i-0ddbc0d5e5319468f'\n",
       "44. 'i-0e69c7fb69e6c2677'\n",
       "45. 'i-0f9ad5ab413ab6ec8'\n",
       "46. 'i-0fe493cdbaccfa180'\n",
       "47. 'i-0ff0efc1e3751e607'\n",
       "48. 'i-0ff51b86931e5c6d6'\n",
       "\n",
       "\n"
      ],
      "text/plain": [
       " [1] \"i-0061cb0d743e7b1e3\" \"i-0123add930d643ea9\" \"i-01440dd9efb728702\"\n",
       " [4] \"i-0194585871a785405\" \"i-02307d707deaff428\" \"i-0256f2ea47ca97f61\"\n",
       " [7] \"i-02d59179dabcee86c\" \"i-02e3ab10ce5161519\" \"i-03217bdde70f09f69\"\n",
       "[10] \"i-0355d3c1c480dba73\" \"i-03abcea54e3216844\" \"i-03ae0b8ba00cc5a47\"\n",
       "[13] \"i-03f5aceeaf9c5bc7a\" \"i-040a6fbe8ea9d0b6f\" \"i-0412cb24901c4a622\"\n",
       "[16] \"i-0435b0a1e323aeab1\" \"i-048dc5a524cd92650\" \"i-04c3d7561c923a1ac\"\n",
       "[19] \"i-0516ffd6bb6503c5c\" \"i-05c3626df24016fb8\" \"i-063273e14ad24d77d\"\n",
       "[22] \"i-0662b90b8153db04f\" \"i-067ef5fc74b117914\" \"i-06bcc2ed9aee48d36\"\n",
       "[25] \"i-07377918081db8513\" \"i-07542861c288ed45d\" \"i-077cde8ee8e08a135\"\n",
       "[28] \"i-083287891870de749\" \"i-08aae4246978be73f\" \"i-08e53d6a2d665e9f7\"\n",
       "[31] \"i-08f20c290d3c746b9\" \"i-0998f32a9a3755e5c\" \"i-0a76a67ad863e88a7\"\n",
       "[34] \"i-0b0bd1d3eff7614eb\" \"i-0b1a24509615d442c\" \"i-0b3fe4fc03a63e6d5\"\n",
       "[37] \"i-0b48f88d20ca55404\" \"i-0b81908ddd4364040\" \"i-0c2e5cb1cb890a119\"\n",
       "[40] \"i-0c344cc05ad617669\" \"i-0cadc44d0d72feb7d\" \"i-0cde34f4c61f6b609\"\n",
       "[43] \"i-0ddbc0d5e5319468f\" \"i-0e69c7fb69e6c2677\" \"i-0f9ad5ab413ab6ec8\"\n",
       "[46] \"i-0fe493cdbaccfa180\" \"i-0ff0efc1e3751e607\" \"i-0ff51b86931e5c6d6\""
      ]
     },
     "metadata": {},
     "output_type": "display_data"
    }
   ],
   "source": [
    "temp_vm_id <- subset(y_cruncher, subset=instanceID!=\"\")\n",
    "vm_id <- factor(temp_vm_id$instanceID)\n",
    "\n",
    "#table(vm_id)\n",
    "vm_ids <- as.integer(vm_id)\n",
    "print(min(vm_ids))\n",
    "print(max(vm_ids))\n",
    "levels(vm_id)"
   ]
  },
  {
   "cell_type": "code",
   "execution_count": 3,
   "metadata": {},
   "outputs": [],
   "source": [
    "#Now bind the list of vm ids back into our dataframe\n",
    "#pgbench <- cbind(pgbench, exp_ids)\n",
    "y_cruncher <- y_cruncher[y_cruncher$instanceID != \"\",]\n",
    "y_cruncher <- cbind(y_cruncher, vm_ids)"
   ]
  },
  {
   "cell_type": "code",
   "execution_count": 4,
   "metadata": {},
   "outputs": [
    {
     "data": {
      "text/html": [
       "<table>\n",
       "<thead><tr><th></th><th scope=col>instanceID</th><th scope=col>experimentID</th><th scope=col>setid</th><th scope=col>instanceType</th><th scope=col>memoryInfo</th><th scope=col>processorInfo</th><th scope=col>sysTopology</th><th scope=col>osVersion</th><th scope=col>testStartTime</th><th scope=col>availableMemory</th><th scope=col>isMultiThread</th><th scope=col>cpuUtilization</th><th scope=col>multiCoreEfficiency</th><th scope=col>computationTime</th><th scope=col>benchmarkTime</th><th scope=col>wallTime</th><th scope=col>vm_ids</th></tr></thead>\n",
       "<tbody>\n",
       "\t<tr><th scope=row>9403</th><td>i-0061cb0d743e7b1e3                          </td><td>1566527145-47                                </td><td>47                                           </td><td>m5d.large                                    </td><td>7.51 GiB                                     </td><td>Intel(R) Xeon(R) Platinum 8175M CPU @ 2.50GHz</td><td>2 threads / 1 core / 1 socket / 1 NUMA node  </td><td>0.7.5.9480 (Linux/17-SKX ~ Kotori)           </td><td>Fri Aug 23 04:56:10 2019                     </td><td>7.10 GiB                                     </td><td>Push                                         </td><td>195.90 %                                     </td><td>97.95 %                                      </td><td>3.772                                        </td><td>3.961                                        </td><td>4.384688                                     </td><td>1                                            </td></tr>\n",
       "\t<tr><th scope=row>9404</th><td>i-0061cb0d743e7b1e3                          </td><td>1566527145-47                                </td><td>47                                           </td><td>m5d.large                                    </td><td>7.51 GiB                                     </td><td>Intel(R) Xeon(R) Platinum 8175M CPU @ 2.50GHz</td><td>2 threads / 1 core / 1 socket / 1 NUMA node  </td><td>0.7.5.9480 (Linux/17-SKX ~ Kotori)           </td><td>Fri Aug 23 04:56:15 2019                     </td><td>7.10 GiB                                     </td><td>Push                                         </td><td>195.88 %                                     </td><td>97.94 %                                      </td><td>3.778                                        </td><td>3.963                                        </td><td>4.390248                                     </td><td>1                                            </td></tr>\n",
       "\t<tr><th scope=row>9405</th><td>i-0061cb0d743e7b1e3                          </td><td>1566527145-47                                </td><td>47                                           </td><td>m5d.large                                    </td><td>7.51 GiB                                     </td><td>Intel(R) Xeon(R) Platinum 8175M CPU @ 2.50GHz</td><td>2 threads / 1 core / 1 socket / 1 NUMA node  </td><td>0.7.5.9480 (Linux/17-SKX ~ Kotori)           </td><td>Fri Aug 23 04:56:19 2019                     </td><td>7.10 GiB                                     </td><td>Push                                         </td><td>195.57 %                                     </td><td>97.78 %                                      </td><td>3.763                                        </td><td>4.000                                        </td><td>4.415437                                     </td><td>1                                            </td></tr>\n",
       "\t<tr><th scope=row>9406</th><td>i-0061cb0d743e7b1e3                          </td><td>1566527145-47                                </td><td>47                                           </td><td>m5d.large                                    </td><td>7.51 GiB                                     </td><td>Intel(R) Xeon(R) Platinum 8175M CPU @ 2.50GHz</td><td>2 threads / 1 core / 1 socket / 1 NUMA node  </td><td>0.7.5.9480 (Linux/17-SKX ~ Kotori)           </td><td>Fri Aug 23 04:56:24 2019                     </td><td>7.10 GiB                                     </td><td>Push                                         </td><td>196.86 %                                     </td><td>98.43 %                                      </td><td>3.759                                        </td><td>3.946                                        </td><td>4.371897                                     </td><td>1                                            </td></tr>\n",
       "\t<tr><th scope=row>9407</th><td>i-0061cb0d743e7b1e3                          </td><td>1566527145-47                                </td><td>47                                           </td><td>m5d.large                                    </td><td>7.51 GiB                                     </td><td>Intel(R) Xeon(R) Platinum 8175M CPU @ 2.50GHz</td><td>2 threads / 1 core / 1 socket / 1 NUMA node  </td><td>0.7.5.9480 (Linux/17-SKX ~ Kotori)           </td><td>Fri Aug 23 04:56:29 2019                     </td><td>7.10 GiB                                     </td><td>Push                                         </td><td>196.79 %                                     </td><td>98.40 %                                      </td><td>3.791                                        </td><td>3.977                                        </td><td>4.400162                                     </td><td>1                                            </td></tr>\n",
       "\t<tr><th scope=row>9408</th><td>i-0061cb0d743e7b1e3                          </td><td>1566527145-47                                </td><td>47                                           </td><td>m5d.large                                    </td><td>7.51 GiB                                     </td><td>Intel(R) Xeon(R) Platinum 8175M CPU @ 2.50GHz</td><td>2 threads / 1 core / 1 socket / 1 NUMA node  </td><td>0.7.5.9480 (Linux/17-SKX ~ Kotori)           </td><td>Fri Aug 23 04:56:33 2019                     </td><td>7.10 GiB                                     </td><td>Push                                         </td><td>196.49 %                                     </td><td>98.24 %                                      </td><td>3.776                                        </td><td>3.963                                        </td><td>4.384988                                     </td><td>1                                            </td></tr>\n",
       "</tbody>\n",
       "</table>\n"
      ],
      "text/latex": [
       "\\begin{tabular}{r|lllllllllllllllll}\n",
       "  & instanceID & experimentID & setid & instanceType & memoryInfo & processorInfo & sysTopology & osVersion & testStartTime & availableMemory & isMultiThread & cpuUtilization & multiCoreEfficiency & computationTime & benchmarkTime & wallTime & vm\\_ids\\\\\n",
       "\\hline\n",
       "\t9403 & i-0061cb0d743e7b1e3                                 & 1566527145-47                                       & 47                                                  & m5d.large                                           & 7.51 GiB                                            & Intel(R) Xeon(R) Platinum 8175M CPU @ 2.50GHz       & 2 threads / 1 core / 1 socket / 1 NUMA node         & 0.7.5.9480 (Linux/17-SKX \\textasciitilde{} Kotori) & Fri Aug 23 04:56:10 2019                            & 7.10 GiB                                            & Push                                                & 195.90 \\%                                          & 97.95 \\%                                           & 3.772                                               & 3.961                                               & 4.384688                                            & 1                                                  \\\\\n",
       "\t9404 & i-0061cb0d743e7b1e3                                 & 1566527145-47                                       & 47                                                  & m5d.large                                           & 7.51 GiB                                            & Intel(R) Xeon(R) Platinum 8175M CPU @ 2.50GHz       & 2 threads / 1 core / 1 socket / 1 NUMA node         & 0.7.5.9480 (Linux/17-SKX \\textasciitilde{} Kotori) & Fri Aug 23 04:56:15 2019                            & 7.10 GiB                                            & Push                                                & 195.88 \\%                                          & 97.94 \\%                                           & 3.778                                               & 3.963                                               & 4.390248                                            & 1                                                  \\\\\n",
       "\t9405 & i-0061cb0d743e7b1e3                                 & 1566527145-47                                       & 47                                                  & m5d.large                                           & 7.51 GiB                                            & Intel(R) Xeon(R) Platinum 8175M CPU @ 2.50GHz       & 2 threads / 1 core / 1 socket / 1 NUMA node         & 0.7.5.9480 (Linux/17-SKX \\textasciitilde{} Kotori) & Fri Aug 23 04:56:19 2019                            & 7.10 GiB                                            & Push                                                & 195.57 \\%                                          & 97.78 \\%                                           & 3.763                                               & 4.000                                               & 4.415437                                            & 1                                                  \\\\\n",
       "\t9406 & i-0061cb0d743e7b1e3                                 & 1566527145-47                                       & 47                                                  & m5d.large                                           & 7.51 GiB                                            & Intel(R) Xeon(R) Platinum 8175M CPU @ 2.50GHz       & 2 threads / 1 core / 1 socket / 1 NUMA node         & 0.7.5.9480 (Linux/17-SKX \\textasciitilde{} Kotori) & Fri Aug 23 04:56:24 2019                            & 7.10 GiB                                            & Push                                                & 196.86 \\%                                          & 98.43 \\%                                           & 3.759                                               & 3.946                                               & 4.371897                                            & 1                                                  \\\\\n",
       "\t9407 & i-0061cb0d743e7b1e3                                 & 1566527145-47                                       & 47                                                  & m5d.large                                           & 7.51 GiB                                            & Intel(R) Xeon(R) Platinum 8175M CPU @ 2.50GHz       & 2 threads / 1 core / 1 socket / 1 NUMA node         & 0.7.5.9480 (Linux/17-SKX \\textasciitilde{} Kotori) & Fri Aug 23 04:56:29 2019                            & 7.10 GiB                                            & Push                                                & 196.79 \\%                                          & 98.40 \\%                                           & 3.791                                               & 3.977                                               & 4.400162                                            & 1                                                  \\\\\n",
       "\t9408 & i-0061cb0d743e7b1e3                                 & 1566527145-47                                       & 47                                                  & m5d.large                                           & 7.51 GiB                                            & Intel(R) Xeon(R) Platinum 8175M CPU @ 2.50GHz       & 2 threads / 1 core / 1 socket / 1 NUMA node         & 0.7.5.9480 (Linux/17-SKX \\textasciitilde{} Kotori) & Fri Aug 23 04:56:33 2019                            & 7.10 GiB                                            & Push                                                & 196.49 \\%                                          & 98.24 \\%                                           & 3.776                                               & 3.963                                               & 4.384988                                            & 1                                                  \\\\\n",
       "\\end{tabular}\n"
      ],
      "text/markdown": [
       "\n",
       "| <!--/--> | instanceID | experimentID | setid | instanceType | memoryInfo | processorInfo | sysTopology | osVersion | testStartTime | availableMemory | isMultiThread | cpuUtilization | multiCoreEfficiency | computationTime | benchmarkTime | wallTime | vm_ids | \n",
       "|---|---|---|---|---|---|\n",
       "| 9403 | i-0061cb0d743e7b1e3                           | 1566527145-47                                 | 47                                            | m5d.large                                     | 7.51 GiB                                      | Intel(R) Xeon(R) Platinum 8175M CPU @ 2.50GHz | 2 threads / 1 core / 1 socket / 1 NUMA node   | 0.7.5.9480 (Linux/17-SKX ~ Kotori)            | Fri Aug 23 04:56:10 2019                      | 7.10 GiB                                      | Push                                          | 195.90 %                                      | 97.95 %                                       | 3.772                                         | 3.961                                         | 4.384688                                      | 1                                             | \n",
       "| 9404 | i-0061cb0d743e7b1e3                           | 1566527145-47                                 | 47                                            | m5d.large                                     | 7.51 GiB                                      | Intel(R) Xeon(R) Platinum 8175M CPU @ 2.50GHz | 2 threads / 1 core / 1 socket / 1 NUMA node   | 0.7.5.9480 (Linux/17-SKX ~ Kotori)            | Fri Aug 23 04:56:15 2019                      | 7.10 GiB                                      | Push                                          | 195.88 %                                      | 97.94 %                                       | 3.778                                         | 3.963                                         | 4.390248                                      | 1                                             | \n",
       "| 9405 | i-0061cb0d743e7b1e3                           | 1566527145-47                                 | 47                                            | m5d.large                                     | 7.51 GiB                                      | Intel(R) Xeon(R) Platinum 8175M CPU @ 2.50GHz | 2 threads / 1 core / 1 socket / 1 NUMA node   | 0.7.5.9480 (Linux/17-SKX ~ Kotori)            | Fri Aug 23 04:56:19 2019                      | 7.10 GiB                                      | Push                                          | 195.57 %                                      | 97.78 %                                       | 3.763                                         | 4.000                                         | 4.415437                                      | 1                                             | \n",
       "| 9406 | i-0061cb0d743e7b1e3                           | 1566527145-47                                 | 47                                            | m5d.large                                     | 7.51 GiB                                      | Intel(R) Xeon(R) Platinum 8175M CPU @ 2.50GHz | 2 threads / 1 core / 1 socket / 1 NUMA node   | 0.7.5.9480 (Linux/17-SKX ~ Kotori)            | Fri Aug 23 04:56:24 2019                      | 7.10 GiB                                      | Push                                          | 196.86 %                                      | 98.43 %                                       | 3.759                                         | 3.946                                         | 4.371897                                      | 1                                             | \n",
       "| 9407 | i-0061cb0d743e7b1e3                           | 1566527145-47                                 | 47                                            | m5d.large                                     | 7.51 GiB                                      | Intel(R) Xeon(R) Platinum 8175M CPU @ 2.50GHz | 2 threads / 1 core / 1 socket / 1 NUMA node   | 0.7.5.9480 (Linux/17-SKX ~ Kotori)            | Fri Aug 23 04:56:29 2019                      | 7.10 GiB                                      | Push                                          | 196.79 %                                      | 98.40 %                                       | 3.791                                         | 3.977                                         | 4.400162                                      | 1                                             | \n",
       "| 9408 | i-0061cb0d743e7b1e3                           | 1566527145-47                                 | 47                                            | m5d.large                                     | 7.51 GiB                                      | Intel(R) Xeon(R) Platinum 8175M CPU @ 2.50GHz | 2 threads / 1 core / 1 socket / 1 NUMA node   | 0.7.5.9480 (Linux/17-SKX ~ Kotori)            | Fri Aug 23 04:56:33 2019                      | 7.10 GiB                                      | Push                                          | 196.49 %                                      | 98.24 %                                       | 3.776                                         | 3.963                                         | 4.384988                                      | 1                                             | \n",
       "\n",
       "\n"
      ],
      "text/plain": [
       "     instanceID          experimentID  setid instanceType memoryInfo\n",
       "9403 i-0061cb0d743e7b1e3 1566527145-47 47    m5d.large    7.51 GiB  \n",
       "9404 i-0061cb0d743e7b1e3 1566527145-47 47    m5d.large    7.51 GiB  \n",
       "9405 i-0061cb0d743e7b1e3 1566527145-47 47    m5d.large    7.51 GiB  \n",
       "9406 i-0061cb0d743e7b1e3 1566527145-47 47    m5d.large    7.51 GiB  \n",
       "9407 i-0061cb0d743e7b1e3 1566527145-47 47    m5d.large    7.51 GiB  \n",
       "9408 i-0061cb0d743e7b1e3 1566527145-47 47    m5d.large    7.51 GiB  \n",
       "     processorInfo                                \n",
       "9403 Intel(R) Xeon(R) Platinum 8175M CPU @ 2.50GHz\n",
       "9404 Intel(R) Xeon(R) Platinum 8175M CPU @ 2.50GHz\n",
       "9405 Intel(R) Xeon(R) Platinum 8175M CPU @ 2.50GHz\n",
       "9406 Intel(R) Xeon(R) Platinum 8175M CPU @ 2.50GHz\n",
       "9407 Intel(R) Xeon(R) Platinum 8175M CPU @ 2.50GHz\n",
       "9408 Intel(R) Xeon(R) Platinum 8175M CPU @ 2.50GHz\n",
       "     sysTopology                                \n",
       "9403 2 threads / 1 core / 1 socket / 1 NUMA node\n",
       "9404 2 threads / 1 core / 1 socket / 1 NUMA node\n",
       "9405 2 threads / 1 core / 1 socket / 1 NUMA node\n",
       "9406 2 threads / 1 core / 1 socket / 1 NUMA node\n",
       "9407 2 threads / 1 core / 1 socket / 1 NUMA node\n",
       "9408 2 threads / 1 core / 1 socket / 1 NUMA node\n",
       "     osVersion                          testStartTime           \n",
       "9403 0.7.5.9480 (Linux/17-SKX ~ Kotori) Fri Aug 23 04:56:10 2019\n",
       "9404 0.7.5.9480 (Linux/17-SKX ~ Kotori) Fri Aug 23 04:56:15 2019\n",
       "9405 0.7.5.9480 (Linux/17-SKX ~ Kotori) Fri Aug 23 04:56:19 2019\n",
       "9406 0.7.5.9480 (Linux/17-SKX ~ Kotori) Fri Aug 23 04:56:24 2019\n",
       "9407 0.7.5.9480 (Linux/17-SKX ~ Kotori) Fri Aug 23 04:56:29 2019\n",
       "9408 0.7.5.9480 (Linux/17-SKX ~ Kotori) Fri Aug 23 04:56:33 2019\n",
       "     availableMemory isMultiThread cpuUtilization multiCoreEfficiency\n",
       "9403 7.10 GiB        Push          195.90 %       97.95 %            \n",
       "9404 7.10 GiB        Push          195.88 %       97.94 %            \n",
       "9405 7.10 GiB        Push          195.57 %       97.78 %            \n",
       "9406 7.10 GiB        Push          196.86 %       98.43 %            \n",
       "9407 7.10 GiB        Push          196.79 %       98.40 %            \n",
       "9408 7.10 GiB        Push          196.49 %       98.24 %            \n",
       "     computationTime benchmarkTime wallTime vm_ids\n",
       "9403 3.772           3.961         4.384688 1     \n",
       "9404 3.778           3.963         4.390248 1     \n",
       "9405 3.763           4.000         4.415437 1     \n",
       "9406 3.759           3.946         4.371897 1     \n",
       "9407 3.791           3.977         4.400162 1     \n",
       "9408 3.776           3.963         4.384988 1     "
      ]
     },
     "metadata": {},
     "output_type": "display_data"
    }
   ],
   "source": [
    "tail(y_cruncher)"
   ]
  },
  {
   "cell_type": "code",
   "execution_count": 6,
   "metadata": {},
   "outputs": [
    {
     "name": "stdout",
     "output_type": "stream",
     "text": [
      " [1] instanceID          experimentID        setid              \n",
      " [4] instanceType        memoryInfo          processorInfo      \n",
      " [7] sysTopology         osVersion           testStartTime      \n",
      "[10] availableMemory     isMultiThread       cpuUtilization     \n",
      "[13] multiCoreEfficiency computationTime     benchmarkTime      \n",
      "[16] wallTime            vm_ids             \n",
      "<0 rows> (or 0-length row.names)\n",
      " [1] instanceID          experimentID        setid              \n",
      " [4] instanceType        memoryInfo          processorInfo      \n",
      " [7] sysTopology         osVersion           testStartTime      \n",
      "[10] availableMemory     isMultiThread       cpuUtilization     \n",
      "[13] multiCoreEfficiency computationTime     benchmarkTime      \n",
      "[16] wallTime            vm_ids             \n",
      "<0 rows> (or 0-length row.names)\n",
      " [1] instanceID          experimentID        setid              \n",
      " [4] instanceType        memoryInfo          processorInfo      \n",
      " [7] sysTopology         osVersion           testStartTime      \n",
      "[10] availableMemory     isMultiThread       cpuUtilization     \n",
      "[13] multiCoreEfficiency computationTime     benchmarkTime      \n",
      "[16] wallTime            vm_ids             \n",
      "<0 rows> (or 0-length row.names)\n"
     ]
    }
   ],
   "source": [
    "#Looks like there is no missing data.\n",
    "print(y_cruncher[y_cruncher$total.time == \"NA\", ])\n",
    "print(y_cruncher[y_cruncher$set.id == \"NA\", ])\n",
    "print(y_cruncher[y_cruncher$vm_ids == \"NA\", ])"
   ]
  },
  {
   "cell_type": "code",
   "execution_count": 7,
   "metadata": {},
   "outputs": [
    {
     "data": {
      "text/html": [
       "<ol class=list-inline>\n",
       "\t<li>9408</li>\n",
       "\t<li>17</li>\n",
       "</ol>\n"
      ],
      "text/latex": [
       "\\begin{enumerate*}\n",
       "\\item 9408\n",
       "\\item 17\n",
       "\\end{enumerate*}\n"
      ],
      "text/markdown": [
       "1. 9408\n",
       "2. 17\n",
       "\n",
       "\n"
      ],
      "text/plain": [
       "[1] 9408   17"
      ]
     },
     "metadata": {},
     "output_type": "display_data"
    }
   ],
   "source": [
    "#There are exactly as many observations as there should be: ((48 * (48 + 1)) / 2) * 8 = 9408\n",
    "dim(y_cruncher)"
   ]
  },
  {
   "cell_type": "code",
   "execution_count": 8,
   "metadata": {},
   "outputs": [],
   "source": [
    "#Write out the data we are interested in\n",
    "y_cruncher = y_cruncher[c(\"computationTime\",\"setid\",\"vm_ids\")]\n",
    "colnames(y_cruncher) <-c(\"yCruncher\",\"setId\",\"vmId\")\n",
    "write.csv(y_cruncher,\"./yCruncher_standardized.csv\",row.names = FALSE)"
   ]
  }
 ],
 "metadata": {
  "kernelspec": {
   "display_name": "R",
   "language": "R",
   "name": "ir"
  },
  "language_info": {
   "codemirror_mode": "r",
   "file_extension": ".r",
   "mimetype": "text/x-r-source",
   "name": "R",
   "pygments_lexer": "r",
   "version": "3.4.4"
  }
 },
 "nbformat": 4,
 "nbformat_minor": 2
}
