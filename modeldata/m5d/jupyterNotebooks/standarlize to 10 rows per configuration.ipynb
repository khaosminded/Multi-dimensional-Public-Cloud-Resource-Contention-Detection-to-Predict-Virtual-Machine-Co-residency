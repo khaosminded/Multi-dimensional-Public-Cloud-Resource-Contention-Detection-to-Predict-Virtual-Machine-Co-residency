{
 "cells": [
  {
   "cell_type": "code",
   "execution_count": 7,
   "metadata": {},
   "outputs": [],
   "source": [
    "library(dplyr)\n",
    "#iperf<-read.csv(\"./iperf_reference.csv\")\n",
    "#sysbench<-read.csv(\"./sysbench_reference.csv\")\n",
    "#ycruncher<-read.csv(\"./ycruncher_reference.csv\")\n",
    "pgbench<-read.csv(\"./pgbench_reference.csv\")\n",
    "ycruncherFlag = TRUE\n",
    "pgbenchFlag = TRUE\n",
    "sysbenchFlag = TRUE\n",
    "iperfFlag = TRUE"
   ]
  },
  {
   "cell_type": "code",
   "execution_count": 3,
   "metadata": {
    "scrolled": false
   },
   "outputs": [],
   "source": [
    "##ycruncher\n",
    "##vmID line is just switching the numbers around.  Is this necessary??\n",
    "if (ycruncherFlag == TRUE) {\n",
    "    ycruncher[\"vmID\"] = ycruncher[\"vmID\"] * -1 + 17\n",
    "    ycruncher = ycruncher[c(\"computationTime\",\"set\",\"vmID\")]\n",
    "    colnames(ycruncher) <-c(\"ycruncher\",\"setId\",\"vmId\")\n",
    "    ycruncherFlag = FALSE\n",
    "}\n",
    "write.csv(ycruncher,\"./ycruncher_standarlized.csv\",row.names = FALSE)\n"
   ]
  },
  {
   "cell_type": "code",
   "execution_count": 8,
   "metadata": {},
   "outputs": [],
   "source": [
    "##pgbench\n",
    "if (pgbenchFlag == TRUE) {\n",
    "    pgbench[\"vmID\"] = pgbench[\"vmID\"] * -1 + 17\n",
    "    pgbench = pgbench[c(\"transactions\",\"set\",\"vmID\")]\n",
    "    colnames(pgbench) <-c(\"pgbench\",\"setId\",\"vmId\")\n",
    "    #fill blank with mean number\n",
    "    for (i in 1:(dim(pgbench)[1]/3)) {\n",
    "    x = (i - 1) * 3 + 1\n",
    "    y = x + 2\n",
    "    tmp = pgbench[x:y,]\n",
    "    num = mean(unlist(tmp[,\"pgbench\"]))\n",
    "        for (i in 1:7) {\n",
    "            pgbench = rbind(pgbench,c(num,tmp[,\"setId\"][1],tmp[,\"vmId\"][1]))\n",
    "        }\n",
    "    }\n",
    "    pgbenchFlag = FALSE\n",
    "}\n",
    "\n",
    "\n",
    "write.csv(pgbench,\"./pgbench_standarlized.csv\",row.names = FALSE)\n",
    "\n"
   ]
  },
  {
   "cell_type": "code",
   "execution_count": 5,
   "metadata": {},
   "outputs": [],
   "source": [
    "##sysbench\n",
    "if (sysbenchFlag == TRUE) {\n",
    "    \n",
    "    sysbench = sysbench[c(\"total.time\",\"set\",\"vmID\")]\n",
    "    colnames(sysbench) <-c(\"sysbench\",\"setId\",\"vmId\")\n",
    "    sysbench[\"sysbench\"] = as.numeric(gsub(\"s\",\"\",unlist(sysbench[\"sysbench\"])))\n",
    "    sysbenchFlag = FALSE\n",
    "}\n",
    "\n",
    "write.csv(sysbench,\"./sysbench_standarlized.csv\",row.names = FALSE)\n"
   ]
  },
  {
   "cell_type": "code",
   "execution_count": 6,
   "metadata": {},
   "outputs": [],
   "source": [
    "##iperf\n",
    "\n",
    "if (iperfFlag == TRUE) {\n",
    "    iperf = iperf[c(\"bandwidthUpload\",\"bandwitdhDownload\",\"setId\",\"vmId\")]\n",
    "    iperf = iperf[-c(seq(1, 1496, 11)),]\n",
    "    iperf[\"bandwitdhDownload\"] = as.numeric(gsub(\" Mbits/sec\",\"\",unlist(iperf[\"bandwitdhDownload\"])))\n",
    "    iperf[\"bandwidthUpload\"] = as.numeric(gsub(\" Mbits/sec\",\"\",unlist(iperf[\"bandwidthUpload\"])))\n",
    "    \n",
    "    iperf[\"bandwidthUpload\"] = iperf[,\"bandwidthUpload\"] + iperf[,\"bandwitdhDownload\"]\n",
    "    colnames(iperf)[1] = c(\"iperf\")\n",
    "    iperf =iperf[,-c(2)]\n",
    "    iperfFlag = FALSE\n",
    "}\n",
    "\n",
    "write.csv(iperf,\"./iperf_standarlized.csv\",row.names = FALSE)\n"
   ]
  }
 ],
 "metadata": {
  "kernelspec": {
   "display_name": "R",
   "language": "R",
   "name": "ir"
  },
  "language_info": {
   "codemirror_mode": "r",
   "file_extension": ".r",
   "mimetype": "text/x-r-source",
   "name": "R",
   "pygments_lexer": "r",
   "version": "3.4.4"
  }
 },
 "nbformat": 4,
 "nbformat_minor": 2
}
