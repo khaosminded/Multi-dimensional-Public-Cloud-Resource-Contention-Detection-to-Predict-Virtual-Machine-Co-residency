{
 "cells": [
  {
   "cell_type": "code",
   "execution_count": 2,
   "metadata": {},
   "outputs": [
    {
     "data": {
      "text/html": [
       "<table>\n",
       "<thead><tr><th scope=col>instanceID</th><th scope=col>instanceType</th><th scope=col>experimentID</th><th scope=col>interval</th><th scope=col>bandwidthUpload</th><th scope=col>bandwitdhDownload</th><th scope=col>Upload</th><th scope=col>Download</th><th scope=col>Total</th><th scope=col>setId</th><th scope=col>vmId</th><th scope=col>cmd</th><th scope=col>X</th><th scope=col>X.1</th><th scope=col>X.2</th><th scope=col>X.3</th><th scope=col>X.4</th></tr></thead>\n",
       "<tbody>\n",
       "\t<tr><td>i-024fbd0ce0d3c4378                                    </td><td>m5d.large                                              </td><td>1567242764                                             </td><td>15.0 sec                                               </td><td>9.57 Gbits/sec                                         </td><td>8.87 Gbits/sec                                         </td><td>9.57                                                   </td><td>8.87                                                   </td><td>18.44                                                  </td><td>1                                                      </td><td>1                                                      </td><td>iperf -c 172.31.95.6 --dualtest --window 416k --time 15</td><td>NA                                                     </td><td>NA                                                     </td><td>NA                                                     </td><td>NA                                                     </td><td>NA                                                     </td></tr>\n",
       "\t<tr><td>i-024fbd0ce0d3c4378                                    </td><td>m5d.large                                              </td><td>1567242764                                             </td><td>15.0 sec                                               </td><td>9.47 Gbits/sec                                         </td><td>9.05 Gbits/sec                                         </td><td>9.47                                                   </td><td>9.05                                                   </td><td>18.52                                                  </td><td>1                                                      </td><td>1                                                      </td><td>iperf -c 172.31.95.6 --dualtest --window 416k --time 15</td><td>NA                                                     </td><td>NA                                                     </td><td>NA                                                     </td><td>NA                                                     </td><td>NA                                                     </td></tr>\n",
       "\t<tr><td>i-024fbd0ce0d3c4378                                    </td><td>m5d.large                                              </td><td>1567242764                                             </td><td>15.0 sec                                               </td><td>9.44 Gbits/sec                                         </td><td>8.88 Gbits/sec                                         </td><td>9.44                                                   </td><td>8.88                                                   </td><td>18.32                                                  </td><td>1                                                      </td><td>1                                                      </td><td>iperf -c 172.31.95.6 --dualtest --window 416k --time 15</td><td>NA                                                     </td><td>NA                                                     </td><td>NA                                                     </td><td>NA                                                     </td><td>NA                                                     </td></tr>\n",
       "\t<tr><td>i-024fbd0ce0d3c4378                                    </td><td>m5d.large                                              </td><td>1567242764                                             </td><td>15.0 sec                                               </td><td>9.45 Gbits/sec                                         </td><td>9.13 Gbits/sec                                         </td><td>9.45                                                   </td><td>9.13                                                   </td><td>18.58                                                  </td><td>1                                                      </td><td>1                                                      </td><td>iperf -c 172.31.95.6 --dualtest --window 416k --time 15</td><td>NA                                                     </td><td>NA                                                     </td><td>NA                                                     </td><td>NA                                                     </td><td>NA                                                     </td></tr>\n",
       "\t<tr><td>i-024fbd0ce0d3c4378                                    </td><td>m5d.large                                              </td><td>1567242764                                             </td><td>15.0 sec                                               </td><td>9.48 Gbits/sec                                         </td><td>8.90 Gbits/sec                                         </td><td>9.48                                                   </td><td>8.90                                                   </td><td>18.38                                                  </td><td>1                                                      </td><td>1                                                      </td><td>iperf -c 172.31.95.6 --dualtest --window 416k --time 15</td><td>NA                                                     </td><td>NA                                                     </td><td>NA                                                     </td><td>NA                                                     </td><td>NA                                                     </td></tr>\n",
       "\t<tr><td>i-024fbd0ce0d3c4378                                    </td><td>m5d.large                                              </td><td>1567242764                                             </td><td>15.0 sec                                               </td><td>9.60 Gbits/sec                                         </td><td>9.26 Gbits/sec                                         </td><td>9.60                                                   </td><td>9.26                                                   </td><td>18.86                                                  </td><td>1                                                      </td><td>1                                                      </td><td>iperf -c 172.31.95.6 --dualtest --window 416k --time 15</td><td>NA                                                     </td><td>NA                                                     </td><td>NA                                                     </td><td>NA                                                     </td><td>NA                                                     </td></tr>\n",
       "</tbody>\n",
       "</table>\n"
      ],
      "text/latex": [
       "\\begin{tabular}{r|lllllllllllllllll}\n",
       " instanceID & instanceType & experimentID & interval & bandwidthUpload & bandwitdhDownload & Upload & Download & Total & setId & vmId & cmd & X & X.1 & X.2 & X.3 & X.4\\\\\n",
       "\\hline\n",
       "\t i-024fbd0ce0d3c4378                                     & m5d.large                                               & 1567242764                                              & 15.0 sec                                                & 9.57 Gbits/sec                                          & 8.87 Gbits/sec                                          & 9.57                                                    & 8.87                                                    & 18.44                                                   & 1                                                       & 1                                                       & iperf -c 172.31.95.6 --dualtest --window 416k --time 15 & NA                                                      & NA                                                      & NA                                                      & NA                                                      & NA                                                     \\\\\n",
       "\t i-024fbd0ce0d3c4378                                     & m5d.large                                               & 1567242764                                              & 15.0 sec                                                & 9.47 Gbits/sec                                          & 9.05 Gbits/sec                                          & 9.47                                                    & 9.05                                                    & 18.52                                                   & 1                                                       & 1                                                       & iperf -c 172.31.95.6 --dualtest --window 416k --time 15 & NA                                                      & NA                                                      & NA                                                      & NA                                                      & NA                                                     \\\\\n",
       "\t i-024fbd0ce0d3c4378                                     & m5d.large                                               & 1567242764                                              & 15.0 sec                                                & 9.44 Gbits/sec                                          & 8.88 Gbits/sec                                          & 9.44                                                    & 8.88                                                    & 18.32                                                   & 1                                                       & 1                                                       & iperf -c 172.31.95.6 --dualtest --window 416k --time 15 & NA                                                      & NA                                                      & NA                                                      & NA                                                      & NA                                                     \\\\\n",
       "\t i-024fbd0ce0d3c4378                                     & m5d.large                                               & 1567242764                                              & 15.0 sec                                                & 9.45 Gbits/sec                                          & 9.13 Gbits/sec                                          & 9.45                                                    & 9.13                                                    & 18.58                                                   & 1                                                       & 1                                                       & iperf -c 172.31.95.6 --dualtest --window 416k --time 15 & NA                                                      & NA                                                      & NA                                                      & NA                                                      & NA                                                     \\\\\n",
       "\t i-024fbd0ce0d3c4378                                     & m5d.large                                               & 1567242764                                              & 15.0 sec                                                & 9.48 Gbits/sec                                          & 8.90 Gbits/sec                                          & 9.48                                                    & 8.90                                                    & 18.38                                                   & 1                                                       & 1                                                       & iperf -c 172.31.95.6 --dualtest --window 416k --time 15 & NA                                                      & NA                                                      & NA                                                      & NA                                                      & NA                                                     \\\\\n",
       "\t i-024fbd0ce0d3c4378                                     & m5d.large                                               & 1567242764                                              & 15.0 sec                                                & 9.60 Gbits/sec                                          & 9.26 Gbits/sec                                          & 9.60                                                    & 9.26                                                    & 18.86                                                   & 1                                                       & 1                                                       & iperf -c 172.31.95.6 --dualtest --window 416k --time 15 & NA                                                      & NA                                                      & NA                                                      & NA                                                      & NA                                                     \\\\\n",
       "\\end{tabular}\n"
      ],
      "text/markdown": [
       "\n",
       "instanceID | instanceType | experimentID | interval | bandwidthUpload | bandwitdhDownload | Upload | Download | Total | setId | vmId | cmd | X | X.1 | X.2 | X.3 | X.4 | \n",
       "|---|---|---|---|---|---|\n",
       "| i-024fbd0ce0d3c4378                                     | m5d.large                                               | 1567242764                                              | 15.0 sec                                                | 9.57 Gbits/sec                                          | 8.87 Gbits/sec                                          | 9.57                                                    | 8.87                                                    | 18.44                                                   | 1                                                       | 1                                                       | iperf -c 172.31.95.6 --dualtest --window 416k --time 15 | NA                                                      | NA                                                      | NA                                                      | NA                                                      | NA                                                      | \n",
       "| i-024fbd0ce0d3c4378                                     | m5d.large                                               | 1567242764                                              | 15.0 sec                                                | 9.47 Gbits/sec                                          | 9.05 Gbits/sec                                          | 9.47                                                    | 9.05                                                    | 18.52                                                   | 1                                                       | 1                                                       | iperf -c 172.31.95.6 --dualtest --window 416k --time 15 | NA                                                      | NA                                                      | NA                                                      | NA                                                      | NA                                                      | \n",
       "| i-024fbd0ce0d3c4378                                     | m5d.large                                               | 1567242764                                              | 15.0 sec                                                | 9.44 Gbits/sec                                          | 8.88 Gbits/sec                                          | 9.44                                                    | 8.88                                                    | 18.32                                                   | 1                                                       | 1                                                       | iperf -c 172.31.95.6 --dualtest --window 416k --time 15 | NA                                                      | NA                                                      | NA                                                      | NA                                                      | NA                                                      | \n",
       "| i-024fbd0ce0d3c4378                                     | m5d.large                                               | 1567242764                                              | 15.0 sec                                                | 9.45 Gbits/sec                                          | 9.13 Gbits/sec                                          | 9.45                                                    | 9.13                                                    | 18.58                                                   | 1                                                       | 1                                                       | iperf -c 172.31.95.6 --dualtest --window 416k --time 15 | NA                                                      | NA                                                      | NA                                                      | NA                                                      | NA                                                      | \n",
       "| i-024fbd0ce0d3c4378                                     | m5d.large                                               | 1567242764                                              | 15.0 sec                                                | 9.48 Gbits/sec                                          | 8.90 Gbits/sec                                          | 9.48                                                    | 8.90                                                    | 18.38                                                   | 1                                                       | 1                                                       | iperf -c 172.31.95.6 --dualtest --window 416k --time 15 | NA                                                      | NA                                                      | NA                                                      | NA                                                      | NA                                                      | \n",
       "| i-024fbd0ce0d3c4378                                     | m5d.large                                               | 1567242764                                              | 15.0 sec                                                | 9.60 Gbits/sec                                          | 9.26 Gbits/sec                                          | 9.60                                                    | 9.26                                                    | 18.86                                                   | 1                                                       | 1                                                       | iperf -c 172.31.95.6 --dualtest --window 416k --time 15 | NA                                                      | NA                                                      | NA                                                      | NA                                                      | NA                                                      | \n",
       "\n",
       "\n"
      ],
      "text/plain": [
       "  instanceID          instanceType experimentID interval bandwidthUpload\n",
       "1 i-024fbd0ce0d3c4378 m5d.large    1567242764   15.0 sec 9.57 Gbits/sec \n",
       "2 i-024fbd0ce0d3c4378 m5d.large    1567242764   15.0 sec 9.47 Gbits/sec \n",
       "3 i-024fbd0ce0d3c4378 m5d.large    1567242764   15.0 sec 9.44 Gbits/sec \n",
       "4 i-024fbd0ce0d3c4378 m5d.large    1567242764   15.0 sec 9.45 Gbits/sec \n",
       "5 i-024fbd0ce0d3c4378 m5d.large    1567242764   15.0 sec 9.48 Gbits/sec \n",
       "6 i-024fbd0ce0d3c4378 m5d.large    1567242764   15.0 sec 9.60 Gbits/sec \n",
       "  bandwitdhDownload Upload Download Total setId vmId\n",
       "1 8.87 Gbits/sec    9.57   8.87     18.44 1     1   \n",
       "2 9.05 Gbits/sec    9.47   9.05     18.52 1     1   \n",
       "3 8.88 Gbits/sec    9.44   8.88     18.32 1     1   \n",
       "4 9.13 Gbits/sec    9.45   9.13     18.58 1     1   \n",
       "5 8.90 Gbits/sec    9.48   8.90     18.38 1     1   \n",
       "6 9.26 Gbits/sec    9.60   9.26     18.86 1     1   \n",
       "  cmd                                                     X  X.1 X.2 X.3 X.4\n",
       "1 iperf -c 172.31.95.6 --dualtest --window 416k --time 15 NA NA  NA  NA  NA \n",
       "2 iperf -c 172.31.95.6 --dualtest --window 416k --time 15 NA NA  NA  NA  NA \n",
       "3 iperf -c 172.31.95.6 --dualtest --window 416k --time 15 NA NA  NA  NA  NA \n",
       "4 iperf -c 172.31.95.6 --dualtest --window 416k --time 15 NA NA  NA  NA  NA \n",
       "5 iperf -c 172.31.95.6 --dualtest --window 416k --time 15 NA NA  NA  NA  NA \n",
       "6 iperf -c 172.31.95.6 --dualtest --window 416k --time 15 NA NA  NA  NA  NA "
      ]
     },
     "metadata": {},
     "output_type": "display_data"
    }
   ],
   "source": [
    "i_perf <- read.table(\"./newdata_iperf_m5d_48.csv\", sep=\",\", header=TRUE)\n",
    "head(i_perf)"
   ]
  },
  {
   "cell_type": "code",
   "execution_count": 3,
   "metadata": {},
   "outputs": [
    {
     "data": {
      "text/html": [
       "<table>\n",
       "<thead><tr><th></th><th scope=col>instanceID</th><th scope=col>instanceType</th><th scope=col>experimentID</th><th scope=col>interval</th><th scope=col>bandwidthUpload</th><th scope=col>bandwitdhDownload</th><th scope=col>Upload</th><th scope=col>Download</th><th scope=col>Total</th><th scope=col>setId</th><th scope=col>vmId</th><th scope=col>cmd</th><th scope=col>X</th><th scope=col>X.1</th><th scope=col>X.2</th><th scope=col>X.3</th><th scope=col>X.4</th></tr></thead>\n",
       "<tbody>\n",
       "\t<tr><th scope=row>12931</th><td>i-03859c8d919b17eb8                                     </td><td>m5d.large                                               </td><td>1567242764                                              </td><td>15.0 sec                                                </td><td>645 Mbits/sec                                           </td><td>476 Mbits/sec                                           </td><td>0.645                                                   </td><td>0.476                                                   </td><td>1.121                                                   </td><td>48                                                      </td><td>48                                                      </td><td>iperf -c 172.31.94.72 --dualtest --window 416k --time 15</td><td>NA                                                      </td><td>NA                                                      </td><td>NA                                                      </td><td>      NA                                                </td><td>       NA                                               </td></tr>\n",
       "\t<tr><th scope=row>12932</th><td>i-03859c8d919b17eb8                                     </td><td>m5d.large                                               </td><td>1567242764                                              </td><td>15.0 sec                                                </td><td>753 Mbits/sec                                           </td><td>446 Mbits/sec                                           </td><td>0.753                                                   </td><td>0.446                                                   </td><td>1.199                                                   </td><td>48                                                      </td><td>48                                                      </td><td>iperf -c 172.31.94.72 --dualtest --window 416k --time 15</td><td>NA                                                      </td><td>NA                                                      </td><td>NA                                                      </td><td>      NA                                                </td><td>       NA                                               </td></tr>\n",
       "\t<tr><th scope=row>12933</th><td>i-03859c8d919b17eb8                                     </td><td>m5d.large                                               </td><td>1567242764                                              </td><td>15.0 sec                                                </td><td>217 Mbits/sec                                           </td><td>559 Mbits/sec                                           </td><td>0.217                                                   </td><td>0.559                                                   </td><td>0.776                                                   </td><td>48                                                      </td><td>48                                                      </td><td>iperf -c 172.31.94.72 --dualtest --window 416k --time 15</td><td>NA                                                      </td><td>NA                                                      </td><td>NA                                                      </td><td>      NA                                                </td><td>       NA                                               </td></tr>\n",
       "\t<tr><th scope=row>12934</th><td>i-03859c8d919b17eb8                                     </td><td>m5d.large                                               </td><td>1567242764                                              </td><td>15.0 sec                                                </td><td>422 Mbits/sec                                           </td><td>405 Mbits/sec                                           </td><td>0.422                                                   </td><td>0.405                                                   </td><td>0.827                                                   </td><td>48                                                      </td><td>48                                                      </td><td>iperf -c 172.31.94.72 --dualtest --window 416k --time 15</td><td>NA                                                      </td><td>NA                                                      </td><td>NA                                                      </td><td>      NA                                                </td><td>       NA                                               </td></tr>\n",
       "\t<tr><th scope=row>12935</th><td>i-03859c8d919b17eb8                                     </td><td>m5d.large                                               </td><td>1567242764                                              </td><td>15.0 sec                                                </td><td>245 Mbits/sec                                           </td><td>280 Mbits/sec                                           </td><td>0.245                                                   </td><td>0.280                                                   </td><td>0.525                                                   </td><td>48                                                      </td><td>48                                                      </td><td>iperf -c 172.31.94.72 --dualtest --window 416k --time 15</td><td>NA                                                      </td><td>NA                                                      </td><td>NA                                                      </td><td>      NA                                                </td><td>       NA                                               </td></tr>\n",
       "\t<tr><th scope=row>12936</th><td>i-03859c8d919b17eb8                                     </td><td>m5d.large                                               </td><td>1567242764                                              </td><td>15.0 sec                                                </td><td>485 Mbits/sec                                           </td><td>506 Mbits/sec                                           </td><td>0.485                                                   </td><td>0.506                                                   </td><td>0.991                                                   </td><td>48                                                      </td><td>48                                                      </td><td>iperf -c 172.31.94.72 --dualtest --window 416k --time 15</td><td>NA                                                      </td><td>NA                                                      </td><td>NA                                                      </td><td>1.003785                                                </td><td>0.2323032                                               </td></tr>\n",
       "</tbody>\n",
       "</table>\n"
      ],
      "text/latex": [
       "\\begin{tabular}{r|lllllllllllllllll}\n",
       "  & instanceID & instanceType & experimentID & interval & bandwidthUpload & bandwitdhDownload & Upload & Download & Total & setId & vmId & cmd & X & X.1 & X.2 & X.3 & X.4\\\\\n",
       "\\hline\n",
       "\t12931 & i-03859c8d919b17eb8                                      & m5d.large                                                & 1567242764                                               & 15.0 sec                                                 & 645 Mbits/sec                                            & 476 Mbits/sec                                            & 0.645                                                    & 0.476                                                    & 1.121                                                    & 48                                                       & 48                                                       & iperf -c 172.31.94.72 --dualtest --window 416k --time 15 & NA                                                       & NA                                                       & NA                                                       &       NA                                                 &        NA                                               \\\\\n",
       "\t12932 & i-03859c8d919b17eb8                                      & m5d.large                                                & 1567242764                                               & 15.0 sec                                                 & 753 Mbits/sec                                            & 446 Mbits/sec                                            & 0.753                                                    & 0.446                                                    & 1.199                                                    & 48                                                       & 48                                                       & iperf -c 172.31.94.72 --dualtest --window 416k --time 15 & NA                                                       & NA                                                       & NA                                                       &       NA                                                 &        NA                                               \\\\\n",
       "\t12933 & i-03859c8d919b17eb8                                      & m5d.large                                                & 1567242764                                               & 15.0 sec                                                 & 217 Mbits/sec                                            & 559 Mbits/sec                                            & 0.217                                                    & 0.559                                                    & 0.776                                                    & 48                                                       & 48                                                       & iperf -c 172.31.94.72 --dualtest --window 416k --time 15 & NA                                                       & NA                                                       & NA                                                       &       NA                                                 &        NA                                               \\\\\n",
       "\t12934 & i-03859c8d919b17eb8                                      & m5d.large                                                & 1567242764                                               & 15.0 sec                                                 & 422 Mbits/sec                                            & 405 Mbits/sec                                            & 0.422                                                    & 0.405                                                    & 0.827                                                    & 48                                                       & 48                                                       & iperf -c 172.31.94.72 --dualtest --window 416k --time 15 & NA                                                       & NA                                                       & NA                                                       &       NA                                                 &        NA                                               \\\\\n",
       "\t12935 & i-03859c8d919b17eb8                                      & m5d.large                                                & 1567242764                                               & 15.0 sec                                                 & 245 Mbits/sec                                            & 280 Mbits/sec                                            & 0.245                                                    & 0.280                                                    & 0.525                                                    & 48                                                       & 48                                                       & iperf -c 172.31.94.72 --dualtest --window 416k --time 15 & NA                                                       & NA                                                       & NA                                                       &       NA                                                 &        NA                                               \\\\\n",
       "\t12936 & i-03859c8d919b17eb8                                      & m5d.large                                                & 1567242764                                               & 15.0 sec                                                 & 485 Mbits/sec                                            & 506 Mbits/sec                                            & 0.485                                                    & 0.506                                                    & 0.991                                                    & 48                                                       & 48                                                       & iperf -c 172.31.94.72 --dualtest --window 416k --time 15 & NA                                                       & NA                                                       & NA                                                       & 1.003785                                                 & 0.2323032                                               \\\\\n",
       "\\end{tabular}\n"
      ],
      "text/markdown": [
       "\n",
       "| <!--/--> | instanceID | instanceType | experimentID | interval | bandwidthUpload | bandwitdhDownload | Upload | Download | Total | setId | vmId | cmd | X | X.1 | X.2 | X.3 | X.4 | \n",
       "|---|---|---|---|---|---|\n",
       "| 12931 | i-03859c8d919b17eb8                                      | m5d.large                                                | 1567242764                                               | 15.0 sec                                                 | 645 Mbits/sec                                            | 476 Mbits/sec                                            | 0.645                                                    | 0.476                                                    | 1.121                                                    | 48                                                       | 48                                                       | iperf -c 172.31.94.72 --dualtest --window 416k --time 15 | NA                                                       | NA                                                       | NA                                                       |       NA                                                 |        NA                                                | \n",
       "| 12932 | i-03859c8d919b17eb8                                      | m5d.large                                                | 1567242764                                               | 15.0 sec                                                 | 753 Mbits/sec                                            | 446 Mbits/sec                                            | 0.753                                                    | 0.446                                                    | 1.199                                                    | 48                                                       | 48                                                       | iperf -c 172.31.94.72 --dualtest --window 416k --time 15 | NA                                                       | NA                                                       | NA                                                       |       NA                                                 |        NA                                                | \n",
       "| 12933 | i-03859c8d919b17eb8                                      | m5d.large                                                | 1567242764                                               | 15.0 sec                                                 | 217 Mbits/sec                                            | 559 Mbits/sec                                            | 0.217                                                    | 0.559                                                    | 0.776                                                    | 48                                                       | 48                                                       | iperf -c 172.31.94.72 --dualtest --window 416k --time 15 | NA                                                       | NA                                                       | NA                                                       |       NA                                                 |        NA                                                | \n",
       "| 12934 | i-03859c8d919b17eb8                                      | m5d.large                                                | 1567242764                                               | 15.0 sec                                                 | 422 Mbits/sec                                            | 405 Mbits/sec                                            | 0.422                                                    | 0.405                                                    | 0.827                                                    | 48                                                       | 48                                                       | iperf -c 172.31.94.72 --dualtest --window 416k --time 15 | NA                                                       | NA                                                       | NA                                                       |       NA                                                 |        NA                                                | \n",
       "| 12935 | i-03859c8d919b17eb8                                      | m5d.large                                                | 1567242764                                               | 15.0 sec                                                 | 245 Mbits/sec                                            | 280 Mbits/sec                                            | 0.245                                                    | 0.280                                                    | 0.525                                                    | 48                                                       | 48                                                       | iperf -c 172.31.94.72 --dualtest --window 416k --time 15 | NA                                                       | NA                                                       | NA                                                       |       NA                                                 |        NA                                                | \n",
       "| 12936 | i-03859c8d919b17eb8                                      | m5d.large                                                | 1567242764                                               | 15.0 sec                                                 | 485 Mbits/sec                                            | 506 Mbits/sec                                            | 0.485                                                    | 0.506                                                    | 0.991                                                    | 48                                                       | 48                                                       | iperf -c 172.31.94.72 --dualtest --window 416k --time 15 | NA                                                       | NA                                                       | NA                                                       | 1.003785                                                 | 0.2323032                                                | \n",
       "\n",
       "\n"
      ],
      "text/plain": [
       "      instanceID          instanceType experimentID interval bandwidthUpload\n",
       "12931 i-03859c8d919b17eb8 m5d.large    1567242764   15.0 sec 645 Mbits/sec  \n",
       "12932 i-03859c8d919b17eb8 m5d.large    1567242764   15.0 sec 753 Mbits/sec  \n",
       "12933 i-03859c8d919b17eb8 m5d.large    1567242764   15.0 sec 217 Mbits/sec  \n",
       "12934 i-03859c8d919b17eb8 m5d.large    1567242764   15.0 sec 422 Mbits/sec  \n",
       "12935 i-03859c8d919b17eb8 m5d.large    1567242764   15.0 sec 245 Mbits/sec  \n",
       "12936 i-03859c8d919b17eb8 m5d.large    1567242764   15.0 sec 485 Mbits/sec  \n",
       "      bandwitdhDownload Upload Download Total setId vmId\n",
       "12931 476 Mbits/sec     0.645  0.476    1.121 48    48  \n",
       "12932 446 Mbits/sec     0.753  0.446    1.199 48    48  \n",
       "12933 559 Mbits/sec     0.217  0.559    0.776 48    48  \n",
       "12934 405 Mbits/sec     0.422  0.405    0.827 48    48  \n",
       "12935 280 Mbits/sec     0.245  0.280    0.525 48    48  \n",
       "12936 506 Mbits/sec     0.485  0.506    0.991 48    48  \n",
       "      cmd                                                      X  X.1 X.2\n",
       "12931 iperf -c 172.31.94.72 --dualtest --window 416k --time 15 NA NA  NA \n",
       "12932 iperf -c 172.31.94.72 --dualtest --window 416k --time 15 NA NA  NA \n",
       "12933 iperf -c 172.31.94.72 --dualtest --window 416k --time 15 NA NA  NA \n",
       "12934 iperf -c 172.31.94.72 --dualtest --window 416k --time 15 NA NA  NA \n",
       "12935 iperf -c 172.31.94.72 --dualtest --window 416k --time 15 NA NA  NA \n",
       "12936 iperf -c 172.31.94.72 --dualtest --window 416k --time 15 NA NA  NA \n",
       "      X.3      X.4      \n",
       "12931       NA        NA\n",
       "12932       NA        NA\n",
       "12933       NA        NA\n",
       "12934       NA        NA\n",
       "12935       NA        NA\n",
       "12936 1.003785 0.2323032"
      ]
     },
     "metadata": {},
     "output_type": "display_data"
    }
   ],
   "source": [
    "tail(i_perf)"
   ]
  },
  {
   "cell_type": "code",
   "execution_count": 4,
   "metadata": {},
   "outputs": [
    {
     "name": "stdout",
     "output_type": "stream",
     "text": [
      "   instanceID instanceType experimentID interval bandwidthUpload\n",
      "NA       <NA>         <NA>           NA     <NA>            <NA>\n",
      "   bandwitdhDownload Upload Download Total setId vmId  cmd  X X.1 X.2 X.3 X.4\n",
      "NA              <NA>     NA       NA    NA    NA   NA <NA> NA  NA  NA  NA  NA\n",
      " [1] instanceID        instanceType      experimentID      interval         \n",
      " [5] bandwidthUpload   bandwitdhDownload Upload            Download         \n",
      " [9] Total             setId             vmId              cmd              \n",
      "[13] X                 X.1               X.2               X.3              \n",
      "[17] X.4              \n",
      "<0 rows> (or 0-length row.names)\n",
      " [1] instanceID        instanceType      experimentID      interval         \n",
      " [5] bandwidthUpload   bandwitdhDownload Upload            Download         \n",
      " [9] Total             setId             vmId              cmd              \n",
      "[13] X                 X.1               X.2               X.3              \n",
      "[17] X.4              \n",
      "<0 rows> (or 0-length row.names)\n"
     ]
    }
   ],
   "source": [
    "#Looks like there is no missing data.\n",
    "print(i_perf[i_perf$Total == \"NA\", ])\n",
    "print(i_perf[i_perf$setId == \"NA\", ])\n",
    "print(i_perf[i_perf$vmId == \"NA\", ])"
   ]
  },
  {
   "cell_type": "code",
   "execution_count": 5,
   "metadata": {},
   "outputs": [
    {
     "data": {
      "text/html": [
       "<ol class=list-inline>\n",
       "\t<li>12936</li>\n",
       "\t<li>17</li>\n",
       "</ol>\n"
      ],
      "text/latex": [
       "\\begin{enumerate*}\n",
       "\\item 12936\n",
       "\\item 17\n",
       "\\end{enumerate*}\n"
      ],
      "text/markdown": [
       "1. 12936\n",
       "2. 17\n",
       "\n",
       "\n"
      ],
      "text/plain": [
       "[1] 12936    17"
      ]
     },
     "metadata": {},
     "output_type": "display_data"
    }
   ],
   "source": [
    "#There are exactly as many observations as there should be: ((48 * (48 + 1)) / 2) * 10 = 11760\n",
    "dim(i_perf)"
   ]
  },
  {
   "cell_type": "code",
   "execution_count": 6,
   "metadata": {},
   "outputs": [],
   "source": [
    "#Write out the data we are interested in\n",
    "i_perf = i_perf[c(\"Total\",\"setId\",\"vmId\")]\n",
    "colnames(i_perf) <-c(\"i_perf\",\"setId\",\"vmId\")\n",
    "write.csv(i_perf,\"./i_perf_standardized.csv\",row.names = FALSE)"
   ]
  }
 ],
 "metadata": {
  "kernelspec": {
   "display_name": "R",
   "language": "R",
   "name": "ir"
  },
  "language_info": {
   "codemirror_mode": "r",
   "file_extension": ".r",
   "mimetype": "text/x-r-source",
   "name": "R",
   "pygments_lexer": "r",
   "version": "3.4.4"
  }
 },
 "nbformat": 4,
 "nbformat_minor": 2
}
