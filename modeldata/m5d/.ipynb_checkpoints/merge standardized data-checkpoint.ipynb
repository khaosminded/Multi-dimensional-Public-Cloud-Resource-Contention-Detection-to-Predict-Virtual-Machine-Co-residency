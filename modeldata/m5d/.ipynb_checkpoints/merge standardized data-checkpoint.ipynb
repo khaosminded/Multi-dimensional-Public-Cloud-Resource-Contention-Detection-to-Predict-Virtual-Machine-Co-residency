{
 "cells": [
  {
   "cell_type": "code",
   "execution_count": 1,
   "metadata": {},
   "outputs": [
    {
     "name": "stderr",
     "output_type": "stream",
     "text": [
      "\n",
      "Attaching package: ‘dplyr’\n",
      "\n",
      "The following objects are masked from ‘package:stats’:\n",
      "\n",
      "    filter, lag\n",
      "\n",
      "The following objects are masked from ‘package:base’:\n",
      "\n",
      "    intersect, setdiff, setequal, union\n",
      "\n"
     ]
    }
   ],
   "source": [
    "library(dplyr)\n",
    "iperf<-read.csv(\"./i_perf_standardized.csv\")\n",
    "sysbench<-read.csv(\"./sysbench_standardized.csv\")\n",
    "ycruncher<-read.csv(\"./yCruncher_standardized.csv\")\n",
    "pgbench<-read.csv(\"./pgbench_standardized.csv\")"
   ]
  },
  {
   "cell_type": "code",
   "execution_count": 3,
   "metadata": {},
   "outputs": [],
   "source": [
    "globalMerged = data.frame()\n",
    "for (set in 1:16) {\n",
    "    for (vm in 1:set) {\n",
    "        a = iperf[iperf$setId == set & iperf$vmId == vm,] \n",
    "        b = sysbench[sysbench$setId == set & sysbench$vmId == vm,]\n",
    "        c = ycruncher[ycruncher$setId == set & ycruncher$vmId == vm,]\n",
    "        d = pgbench[pgbench$setId == set & pgbench$vmId == vm,]\n",
    "\n",
    "        merged = cbind(a[\"iperf\"],b[\"sysbench\"],c[\"ycruncher\"],d[\"pgbench\"],set,vm)\n",
    "       globalMerged = rbind(globalMerged, merged)\n",
    "        \n",
    "    }\n",
    "}\n",
    "\n"
   ]
  },
  {
   "cell_type": "code",
   "execution_count": 4,
   "metadata": {},
   "outputs": [
    {
     "data": {
      "text/html": [
       "<ol class=list-inline>\n",
       "\t<li>1360</li>\n",
       "\t<li>6</li>\n",
       "</ol>\n"
      ],
      "text/latex": [
       "\\begin{enumerate*}\n",
       "\\item 1360\n",
       "\\item 6\n",
       "\\end{enumerate*}\n"
      ],
      "text/markdown": [
       "1. 1360\n",
       "2. 6\n",
       "\n",
       "\n"
      ],
      "text/plain": [
       "[1] 1360    6"
      ]
     },
     "metadata": {},
     "output_type": "display_data"
    }
   ],
   "source": [
    "dim(globalMerged)# (1*16)*8configs * 10 rows"
   ]
  },
  {
   "cell_type": "code",
   "execution_count": 5,
   "metadata": {},
   "outputs": [],
   "source": [
    "rownames(globalMerged) = c(1: dim(globalMerged)[1])\n",
    "write.csv(globalMerged,\"./merged.csv\",row.names=FALSE)"
   ]
  },
  {
   "cell_type": "code",
   "execution_count": null,
   "metadata": {},
   "outputs": [],
   "source": []
  }
 ],
 "metadata": {
  "kernelspec": {
   "display_name": "R",
   "language": "R",
   "name": "ir"
  },
  "language_info": {
   "codemirror_mode": "r",
   "file_extension": ".r",
   "mimetype": "text/x-r-source",
   "name": "R",
   "pygments_lexer": "r",
   "version": "3.4.4"
  }
 },
 "nbformat": 4,
 "nbformat_minor": 2
}
